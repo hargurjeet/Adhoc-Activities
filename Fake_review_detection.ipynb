{
  "nbformat": 4,
  "nbformat_minor": 0,
  "metadata": {
    "colab": {
      "provenance": [],
      "authorship_tag": "ABX9TyNlzfzhQ371gcSGpwoa6CTU",
      "include_colab_link": true
    },
    "kernelspec": {
      "name": "python3",
      "display_name": "Python 3"
    },
    "language_info": {
      "name": "python"
    }
  },
  "cells": [
    {
      "cell_type": "markdown",
      "metadata": {
        "id": "view-in-github",
        "colab_type": "text"
      },
      "source": [
        "<a href=\"https://colab.research.google.com/github/hargurjeet/Adhoc-Activities/blob/main/Fake_review_detection.ipynb\" target=\"_parent\"><img src=\"https://colab.research.google.com/assets/colab-badge.svg\" alt=\"Open In Colab\"/></a>"
      ]
    },
    {
      "cell_type": "code",
      "execution_count": 1,
      "metadata": {
        "id": "gDNLkk1Tzvyo"
      },
      "outputs": [],
      "source": [
        "import pandas as pd\n",
        "import numpy as np"
      ]
    },
    {
      "cell_type": "code",
      "source": [
        "import zipfile\n",
        "\n",
        "def unzip_file(zip_file_path, output_dir):\n",
        "    with zipfile.ZipFile(zip_file_path, 'r') as zip_ref:\n",
        "        zip_ref.extractall(output_dir)\n",
        "\n",
        "# Example usage:\n",
        "zip_file_path = '/content/ReviewerNamewise.zip'  # Replace this with the path to your zip file\n",
        "output_dir = '/content/'  # Replace this with the directory where you want to extract the files\n",
        "unzip_file(zip_file_path, output_dir)"
      ],
      "metadata": {
        "id": "nYkbfWwp0hvi"
      },
      "execution_count": 2,
      "outputs": []
    },
    {
      "cell_type": "code",
      "source": [
        "import os\n",
        "import pandas as pd\n",
        "\n",
        "def read_and_append_csv_files(folder_path):\n",
        "    all_data = pd.DataFrame()  # Initialize an empty DataFrame to store the combined data\n",
        "\n",
        "    # List all files in the folder\n",
        "    file_list = os.listdir(folder_path)\n",
        "\n",
        "    # Loop through each file\n",
        "    for file_name in file_list:\n",
        "        if file_name.endswith('.csv'):  # Check if the file is a CSV file\n",
        "            file_path = os.path.join(folder_path, file_name)  # Get the full file path\n",
        "            data = pd.read_csv(file_path)  # Read the CSV file\n",
        "            all_data = all_data.append(data, ignore_index=True)  # Append the data to the DataFrame\n",
        "\n",
        "    return all_data\n",
        "\n",
        "# Example usage:\n",
        "folder_path = '/content/ReviewerNamewise/NormalCase'  # Replace this with the path to your folder containing CSV files\n",
        "combined_data = read_and_append_csv_files(folder_path)\n"
      ],
      "metadata": {
        "id": "zhvPRJ0l09Uu"
      },
      "execution_count": null,
      "outputs": []
    },
    {
      "cell_type": "code",
      "source": [
        "combined_data.shape"
      ],
      "metadata": {
        "colab": {
          "base_uri": "https://localhost:8080/"
        },
        "id": "KMD4mf9_1hss",
        "outputId": "28d7024e-f617-4fbf-cad7-0c8b21247d9d"
      },
      "execution_count": 5,
      "outputs": [
        {
          "output_type": "execute_result",
          "data": {
            "text/plain": [
              "(644, 5)"
            ]
          },
          "metadata": {},
          "execution_count": 5
        }
      ]
    },
    {
      "cell_type": "code",
      "source": [],
      "metadata": {
        "id": "Ey94yahk1mua"
      },
      "execution_count": null,
      "outputs": []
    }
  ]
}