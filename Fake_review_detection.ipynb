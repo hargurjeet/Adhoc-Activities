{
  "nbformat": 4,
  "nbformat_minor": 0,
  "metadata": {
    "colab": {
      "provenance": [],
      "mount_file_id": "https://github.com/hargurjeet/Adhoc-Activities/blob/main/Fake_review_detection.ipynb",
      "authorship_tag": "ABX9TyNbed3ssGIVcvVlB88zA9g3",
      "include_colab_link": true
    },
    "kernelspec": {
      "name": "python3",
      "display_name": "Python 3"
    },
    "language_info": {
      "name": "python"
    }
  },
  "cells": [
    {
      "cell_type": "markdown",
      "metadata": {
        "id": "view-in-github",
        "colab_type": "text"
      },
      "source": [
        "<a href=\"https://colab.research.google.com/github/hargurjeet/Adhoc-Activities/blob/main/Fake_review_detection.ipynb\" target=\"_parent\"><img src=\"https://colab.research.google.com/assets/colab-badge.svg\" alt=\"Open In Colab\"/></a>"
      ]
    },
    {
      "cell_type": "code",
      "execution_count": 1,
      "metadata": {
        "colab": {
          "base_uri": "https://localhost:8080/"
        },
        "id": "gDNLkk1Tzvyo",
        "outputId": "0d7d9f10-6643-4f9b-f82c-dc822f056010"
      },
      "outputs": [
        {
          "output_type": "stream",
          "name": "stderr",
          "text": [
            "[nltk_data] Downloading package punkt to /root/nltk_data...\n",
            "[nltk_data]   Unzipping tokenizers/punkt.zip.\n",
            "[nltk_data] Downloading package stopwords to /root/nltk_data...\n",
            "[nltk_data]   Unzipping corpora/stopwords.zip.\n"
          ]
        },
        {
          "output_type": "execute_result",
          "data": {
            "text/plain": [
              "True"
            ]
          },
          "metadata": {},
          "execution_count": 1
        }
      ],
      "source": [
        "import pandas as pd\n",
        "import numpy as np\n",
        "import nltk\n",
        "from nltk.tokenize import word_tokenize\n",
        "from nltk.corpus import stopwords\n",
        "from nltk.stem import PorterStemmer\n",
        "from sklearn.feature_extraction.text import TfidfVectorizer\n",
        "from sklearn.model_selection import train_test_split\n",
        "from sklearn.linear_model import LogisticRegression\n",
        "from sklearn.metrics import accuracy_score, confusion_matrix\n",
        "import matplotlib.pyplot as plt # plotting\n",
        "import seaborn as sns\n",
        "import plotly.express as px\n",
        "import matplotlib.pyplot as py\n",
        "from wordcloud import WordCloud\n",
        "\n",
        "# Download necessary NLTK resources\n",
        "nltk.download('punkt')\n",
        "nltk.download('stopwords')"
      ]
    },
    {
      "cell_type": "code",
      "source": [
        "import zipfile\n",
        "\n",
        "def unzip_file(zip_file_path, output_dir):\n",
        "    with zipfile.ZipFile(zip_file_path, 'r') as zip_ref:\n",
        "        zip_ref.extractall(output_dir)\n",
        "\n",
        "# Example usage:\n",
        "zip_file_path = '/content/ReviewerNamewise.zip'  # Replace this with the path to your zip file\n",
        "output_dir = '/content/'  # Replace this with the directory where you want to extract the files\n",
        "unzip_file(zip_file_path, output_dir)"
      ],
      "metadata": {
        "id": "nYkbfWwp0hvi"
      },
      "execution_count": 2,
      "outputs": []
    },
    {
      "cell_type": "code",
      "source": [
        "import os\n",
        "import pandas as pd\n",
        "\n",
        "def read_and_append_csv_files(folder_path):\n",
        "    all_data = pd.DataFrame()  # Initialize an empty DataFrame to store the combined data\n",
        "\n",
        "    # List all files in the folder\n",
        "    file_list = os.listdir(folder_path)\n",
        "\n",
        "    # Loop through each file\n",
        "    for file_name in file_list:\n",
        "        if file_name.endswith('.csv'):  # Check if the file is a CSV file\n",
        "            file_path = os.path.join(folder_path, file_name)  # Get the full file path\n",
        "            data = pd.read_csv(file_path)  # Read the CSV file\n",
        "            all_data = all_data.append(data, ignore_index=True)  # Append the data to the DataFrame\n",
        "\n",
        "    return all_data\n",
        "\n",
        "# Example usage:\n",
        "folder_path = r'/content/ReviewerNamewise/NormalCase'  # Replace this with the path to your folder containing CSV files\n",
        "combined_data = read_and_append_csv_files(folder_path)\n",
        "doubtfulcase = read_and_append_csv_files(r'/content/ReviewerNamewise/Doubtfulcase')"
      ],
      "metadata": {
        "id": "zhvPRJ0l09Uu"
      },
      "execution_count": null,
      "outputs": []
    },
    {
      "cell_type": "code",
      "source": [
        "doubtfulcase.shape"
      ],
      "metadata": {
        "colab": {
          "base_uri": "https://localhost:8080/"
        },
        "id": "KMD4mf9_1hss",
        "outputId": "cc41e15b-e02d-402d-c9e4-398c75e226f2"
      },
      "execution_count": 21,
      "outputs": [
        {
          "output_type": "execute_result",
          "data": {
            "text/plain": [
              "(113, 5)"
            ]
          },
          "metadata": {},
          "execution_count": 21
        }
      ]
    },
    {
      "cell_type": "code",
      "source": [
        "doubtfulcase.head()"
      ],
      "metadata": {
        "colab": {
          "base_uri": "https://localhost:8080/",
          "height": 206
        },
        "id": "pSw8s2rg0nW0",
        "outputId": "0e4fd6a9-b768-4cbf-ebe1-748c4887daf1"
      },
      "execution_count": 22,
      "outputs": [
        {
          "output_type": "execute_result",
          "data": {
            "text/plain": [
              "              Store Name Reviewer_Name Review_date  \\\n",
              "0                  DMart       Praveen  2023-02-24   \n",
              "1                  Dmart       Praveen  2023-02-24   \n",
              "2  De Needs Hyper Bazzar       Praveen  2023-02-26   \n",
              "3       Spar Hypermarket       Praveen  2023-02-26   \n",
              "4                  DMart      Bhoomika  2023-02-28   \n",
              "\n",
              "                                                Text primary_no  \n",
              "0  It is well maintained supermarket . You can ha...     jd3835  \n",
              "1  Best discount on festival time and good produc...     jd4285  \n",
              "2  Small supermarket which has the items for the ...      jd628  \n",
              "3  Good supermarket although it is ok but well st...     jd8152  \n",
              "4  Dmart is a great store with even greater price...     jd2439  "
            ],
            "text/html": [
              "\n",
              "\n",
              "  <div id=\"df-d16a79a5-b33b-402f-8676-2e96b3bd68ee\">\n",
              "    <div class=\"colab-df-container\">\n",
              "      <div>\n",
              "<style scoped>\n",
              "    .dataframe tbody tr th:only-of-type {\n",
              "        vertical-align: middle;\n",
              "    }\n",
              "\n",
              "    .dataframe tbody tr th {\n",
              "        vertical-align: top;\n",
              "    }\n",
              "\n",
              "    .dataframe thead th {\n",
              "        text-align: right;\n",
              "    }\n",
              "</style>\n",
              "<table border=\"1\" class=\"dataframe\">\n",
              "  <thead>\n",
              "    <tr style=\"text-align: right;\">\n",
              "      <th></th>\n",
              "      <th>Store Name</th>\n",
              "      <th>Reviewer_Name</th>\n",
              "      <th>Review_date</th>\n",
              "      <th>Text</th>\n",
              "      <th>primary_no</th>\n",
              "    </tr>\n",
              "  </thead>\n",
              "  <tbody>\n",
              "    <tr>\n",
              "      <th>0</th>\n",
              "      <td>DMart</td>\n",
              "      <td>Praveen</td>\n",
              "      <td>2023-02-24</td>\n",
              "      <td>It is well maintained supermarket . You can ha...</td>\n",
              "      <td>jd3835</td>\n",
              "    </tr>\n",
              "    <tr>\n",
              "      <th>1</th>\n",
              "      <td>Dmart</td>\n",
              "      <td>Praveen</td>\n",
              "      <td>2023-02-24</td>\n",
              "      <td>Best discount on festival time and good produc...</td>\n",
              "      <td>jd4285</td>\n",
              "    </tr>\n",
              "    <tr>\n",
              "      <th>2</th>\n",
              "      <td>De Needs Hyper Bazzar</td>\n",
              "      <td>Praveen</td>\n",
              "      <td>2023-02-26</td>\n",
              "      <td>Small supermarket which has the items for the ...</td>\n",
              "      <td>jd628</td>\n",
              "    </tr>\n",
              "    <tr>\n",
              "      <th>3</th>\n",
              "      <td>Spar Hypermarket</td>\n",
              "      <td>Praveen</td>\n",
              "      <td>2023-02-26</td>\n",
              "      <td>Good supermarket although it is ok but well st...</td>\n",
              "      <td>jd8152</td>\n",
              "    </tr>\n",
              "    <tr>\n",
              "      <th>4</th>\n",
              "      <td>DMart</td>\n",
              "      <td>Bhoomika</td>\n",
              "      <td>2023-02-28</td>\n",
              "      <td>Dmart is a great store with even greater price...</td>\n",
              "      <td>jd2439</td>\n",
              "    </tr>\n",
              "  </tbody>\n",
              "</table>\n",
              "</div>\n",
              "      <button class=\"colab-df-convert\" onclick=\"convertToInteractive('df-d16a79a5-b33b-402f-8676-2e96b3bd68ee')\"\n",
              "              title=\"Convert this dataframe to an interactive table.\"\n",
              "              style=\"display:none;\">\n",
              "\n",
              "  <svg xmlns=\"http://www.w3.org/2000/svg\" height=\"24px\"viewBox=\"0 0 24 24\"\n",
              "       width=\"24px\">\n",
              "    <path d=\"M0 0h24v24H0V0z\" fill=\"none\"/>\n",
              "    <path d=\"M18.56 5.44l.94 2.06.94-2.06 2.06-.94-2.06-.94-.94-2.06-.94 2.06-2.06.94zm-11 1L8.5 8.5l.94-2.06 2.06-.94-2.06-.94L8.5 2.5l-.94 2.06-2.06.94zm10 10l.94 2.06.94-2.06 2.06-.94-2.06-.94-.94-2.06-.94 2.06-2.06.94z\"/><path d=\"M17.41 7.96l-1.37-1.37c-.4-.4-.92-.59-1.43-.59-.52 0-1.04.2-1.43.59L10.3 9.45l-7.72 7.72c-.78.78-.78 2.05 0 2.83L4 21.41c.39.39.9.59 1.41.59.51 0 1.02-.2 1.41-.59l7.78-7.78 2.81-2.81c.8-.78.8-2.07 0-2.86zM5.41 20L4 18.59l7.72-7.72 1.47 1.35L5.41 20z\"/>\n",
              "  </svg>\n",
              "      </button>\n",
              "\n",
              "\n",
              "\n",
              "    <div id=\"df-5f78de55-6b1b-4beb-8f2d-42648d7d3abb\">\n",
              "      <button class=\"colab-df-quickchart\" onclick=\"quickchart('df-5f78de55-6b1b-4beb-8f2d-42648d7d3abb')\"\n",
              "              title=\"Suggest charts.\"\n",
              "              style=\"display:none;\">\n",
              "\n",
              "<svg xmlns=\"http://www.w3.org/2000/svg\" height=\"24px\"viewBox=\"0 0 24 24\"\n",
              "     width=\"24px\">\n",
              "    <g>\n",
              "        <path d=\"M19 3H5c-1.1 0-2 .9-2 2v14c0 1.1.9 2 2 2h14c1.1 0 2-.9 2-2V5c0-1.1-.9-2-2-2zM9 17H7v-7h2v7zm4 0h-2V7h2v10zm4 0h-2v-4h2v4z\"/>\n",
              "    </g>\n",
              "</svg>\n",
              "      </button>\n",
              "    </div>\n",
              "\n",
              "<style>\n",
              "  .colab-df-quickchart {\n",
              "    background-color: #E8F0FE;\n",
              "    border: none;\n",
              "    border-radius: 50%;\n",
              "    cursor: pointer;\n",
              "    display: none;\n",
              "    fill: #1967D2;\n",
              "    height: 32px;\n",
              "    padding: 0 0 0 0;\n",
              "    width: 32px;\n",
              "  }\n",
              "\n",
              "  .colab-df-quickchart:hover {\n",
              "    background-color: #E2EBFA;\n",
              "    box-shadow: 0px 1px 2px rgba(60, 64, 67, 0.3), 0px 1px 3px 1px rgba(60, 64, 67, 0.15);\n",
              "    fill: #174EA6;\n",
              "  }\n",
              "\n",
              "  [theme=dark] .colab-df-quickchart {\n",
              "    background-color: #3B4455;\n",
              "    fill: #D2E3FC;\n",
              "  }\n",
              "\n",
              "  [theme=dark] .colab-df-quickchart:hover {\n",
              "    background-color: #434B5C;\n",
              "    box-shadow: 0px 1px 3px 1px rgba(0, 0, 0, 0.15);\n",
              "    filter: drop-shadow(0px 1px 2px rgba(0, 0, 0, 0.3));\n",
              "    fill: #FFFFFF;\n",
              "  }\n",
              "</style>\n",
              "\n",
              "    <script>\n",
              "      async function quickchart(key) {\n",
              "        const containerElement = document.querySelector('#' + key);\n",
              "        const charts = await google.colab.kernel.invokeFunction(\n",
              "            'suggestCharts', [key], {});\n",
              "      }\n",
              "    </script>\n",
              "\n",
              "      <script>\n",
              "\n",
              "function displayQuickchartButton(domScope) {\n",
              "  let quickchartButtonEl =\n",
              "    domScope.querySelector('#df-5f78de55-6b1b-4beb-8f2d-42648d7d3abb button.colab-df-quickchart');\n",
              "  quickchartButtonEl.style.display =\n",
              "    google.colab.kernel.accessAllowed ? 'block' : 'none';\n",
              "}\n",
              "\n",
              "        displayQuickchartButton(document);\n",
              "      </script>\n",
              "      <style>\n",
              "    .colab-df-container {\n",
              "      display:flex;\n",
              "      flex-wrap:wrap;\n",
              "      gap: 12px;\n",
              "    }\n",
              "\n",
              "    .colab-df-convert {\n",
              "      background-color: #E8F0FE;\n",
              "      border: none;\n",
              "      border-radius: 50%;\n",
              "      cursor: pointer;\n",
              "      display: none;\n",
              "      fill: #1967D2;\n",
              "      height: 32px;\n",
              "      padding: 0 0 0 0;\n",
              "      width: 32px;\n",
              "    }\n",
              "\n",
              "    .colab-df-convert:hover {\n",
              "      background-color: #E2EBFA;\n",
              "      box-shadow: 0px 1px 2px rgba(60, 64, 67, 0.3), 0px 1px 3px 1px rgba(60, 64, 67, 0.15);\n",
              "      fill: #174EA6;\n",
              "    }\n",
              "\n",
              "    [theme=dark] .colab-df-convert {\n",
              "      background-color: #3B4455;\n",
              "      fill: #D2E3FC;\n",
              "    }\n",
              "\n",
              "    [theme=dark] .colab-df-convert:hover {\n",
              "      background-color: #434B5C;\n",
              "      box-shadow: 0px 1px 3px 1px rgba(0, 0, 0, 0.15);\n",
              "      filter: drop-shadow(0px 1px 2px rgba(0, 0, 0, 0.3));\n",
              "      fill: #FFFFFF;\n",
              "    }\n",
              "  </style>\n",
              "\n",
              "      <script>\n",
              "        const buttonEl =\n",
              "          document.querySelector('#df-d16a79a5-b33b-402f-8676-2e96b3bd68ee button.colab-df-convert');\n",
              "        buttonEl.style.display =\n",
              "          google.colab.kernel.accessAllowed ? 'block' : 'none';\n",
              "\n",
              "        async function convertToInteractive(key) {\n",
              "          const element = document.querySelector('#df-d16a79a5-b33b-402f-8676-2e96b3bd68ee');\n",
              "          const dataTable =\n",
              "            await google.colab.kernel.invokeFunction('convertToInteractive',\n",
              "                                                     [key], {});\n",
              "          if (!dataTable) return;\n",
              "\n",
              "          const docLinkHtml = 'Like what you see? Visit the ' +\n",
              "            '<a target=\"_blank\" href=https://colab.research.google.com/notebooks/data_table.ipynb>data table notebook</a>'\n",
              "            + ' to learn more about interactive tables.';\n",
              "          element.innerHTML = '';\n",
              "          dataTable['output_type'] = 'display_data';\n",
              "          await google.colab.output.renderOutput(dataTable, element);\n",
              "          const docLink = document.createElement('div');\n",
              "          docLink.innerHTML = docLinkHtml;\n",
              "          element.appendChild(docLink);\n",
              "        }\n",
              "      </script>\n",
              "    </div>\n",
              "  </div>\n"
            ]
          },
          "metadata": {},
          "execution_count": 22
        }
      ]
    },
    {
      "cell_type": "code",
      "source": [
        "from joblib import load\n",
        "\n",
        "# Load the model from the file\n",
        "loaded_model = load('/content/drive/MyDrive/Documents/models.joblib')"
      ],
      "metadata": {
        "id": "Ey94yahk1mua"
      },
      "execution_count": 8,
      "outputs": []
    },
    {
      "cell_type": "code",
      "source": [
        "loaded_model"
      ],
      "metadata": {
        "colab": {
          "base_uri": "https://localhost:8080/"
        },
        "id": "wvK0bUsB37S-",
        "outputId": "0bdacd1c-4d1e-409e-cb07-7b6768b9dfc1"
      },
      "execution_count": 9,
      "outputs": [
        {
          "output_type": "execute_result",
          "data": {
            "text/plain": [
              "[XGBClassifier(base_score=None, booster=None, callbacks=None,\n",
              "               colsample_bylevel=None, colsample_bynode=None,\n",
              "               colsample_bytree=None, early_stopping_rounds=None,\n",
              "               enable_categorical=False, eval_metric=None, feature_types=None,\n",
              "               gamma=None, gpu_id=None, grow_policy=None, importance_type=None,\n",
              "               interaction_constraints=None, learning_rate=None, max_bin=None,\n",
              "               max_cat_threshold=None, max_cat_to_onehot=None,\n",
              "               max_delta_step=None, max_depth=2, max_leaves=None,\n",
              "               min_child_weight=None, missing=nan, monotone_constraints=None,\n",
              "               n_estimators=100, n_jobs=None, num_parallel_tree=None,\n",
              "               predictor=None, random_state=None, ...),\n",
              " RandomForestClassifier()]"
            ]
          },
          "metadata": {},
          "execution_count": 9
        }
      ]
    },
    {
      "cell_type": "code",
      "source": [
        "import string\n",
        "# Define a function to preprocess the review text\n",
        "def preprocess_text(text):\n",
        "    # Convert the text to lowercase and split it into words\n",
        "    words = text.lower().split()\n",
        "\n",
        "    # Remove punctuation and numbers from the words\n",
        "    words = [word.translate(str.maketrans('', '', string.punctuation + string.digits)) for word in words]\n",
        "\n",
        "    # Remove stop words from the words\n",
        "    stopwords = set(nltk.corpus.stopwords.words('english'))\n",
        "    words = [word for word in words if word not in stopwords]\n",
        "\n",
        "    # Stem the words using a Porter stemmer\n",
        "    stemmer = PorterStemmer()\n",
        "    words = [stemmer.stem(word) for word in words]\n",
        "\n",
        "    # Return the preprocessed text as a list of words\n",
        "    return ' '.join(words)\n",
        "\n",
        "combined_data['Text'] = combined_data['Text'].apply(preprocess_text)\n",
        "doubtfulcase['Text'] = doubtfulcase['Text'].apply(preprocess_text)"
      ],
      "metadata": {
        "id": "gnpQaxGt2aqy"
      },
      "execution_count": 23,
      "outputs": []
    },
    {
      "cell_type": "code",
      "source": [
        "combined_data['Text']"
      ],
      "metadata": {
        "colab": {
          "base_uri": "https://localhost:8080/"
        },
        "id": "IK6puQaA1PXf",
        "outputId": "df68fc19-6ddb-4266-8f5a-d1654ecef545"
      },
      "execution_count": 13,
      "outputs": [
        {
          "output_type": "execute_result",
          "data": {
            "text/plain": [
              "0                                                  excel\n",
              "1                                                   good\n",
              "2                                                  excel\n",
              "3             good offer near homethough cafeteria campu\n",
              "4      unabl connect talk phone number avail ironi cu...\n",
              "                             ...                        \n",
              "639                                      good locat park\n",
              "640                                                excel\n",
              "641    good chain supermarket almost everi area aroun...\n",
              "642    outket dmart rel smaller one compar outlet how...\n",
              "643                              amaz product best price\n",
              "Name: Text, Length: 644, dtype: object"
            ]
          },
          "metadata": {},
          "execution_count": 13
        }
      ]
    },
    {
      "cell_type": "code",
      "source": [
        "import gensim\n",
        "# Train the Word2Vec model on the preprocessed review text\n",
        "sentences = [review.split() for review in combined_data['Text']]\n",
        "model = gensim.models.Word2Vec(sentences, vector_size=100, min_count=1, workers=4)"
      ],
      "metadata": {
        "id": "Pmq1po_w1Stv"
      },
      "execution_count": 14,
      "outputs": []
    },
    {
      "cell_type": "code",
      "source": [
        "import gensim\n",
        "# Train the Word2Vec model on the preprocessed review text\n",
        "sentences = [review.split() for review in doubtfulcase['Text']]\n",
        "model = gensim.models.Word2Vec(sentences, vector_size=100, min_count=1, workers=4)"
      ],
      "metadata": {
        "id": "0yel51wd2jxp"
      },
      "execution_count": 24,
      "outputs": []
    },
    {
      "cell_type": "code",
      "source": [
        "from gensim.models import Word2Vec\n",
        "from nltk.tokenize import word_tokenize\n",
        "\n",
        "def get_word2vec_embedding(text):\n",
        "    # Tokenize the text into words\n",
        "    words = word_tokenize(text)\n",
        "\n",
        "    # Train a word2vec model on the tokenized words\n",
        "    model = Word2Vec([words], min_count=1, vector_size=100)\n",
        "\n",
        "    # Get the word2vec embeddings for the words\n",
        "    word_vectors = model.wv\n",
        "\n",
        "    # Return the word2vec embeddings\n",
        "    return word_vectors"
      ],
      "metadata": {
        "id": "tM7AET9A2eoy"
      },
      "execution_count": null,
      "outputs": []
    },
    {
      "cell_type": "code",
      "source": [
        "doc_embeddings = []\n",
        "for sentence in combined_data['Text']:\n",
        "    words = sentence.split()\n",
        "    vectors = [model.wv.get_vector(word) for word in words if word in model.wv.key_to_index]\n",
        "    if vectors:\n",
        "        mean_vector = np.mean(vectors, axis=0)\n",
        "        doc_embeddings.append(mean_vector)\n",
        "    else:\n",
        "        doc_embeddings.append(np.zeros(model.vector_size))"
      ],
      "metadata": {
        "id": "Xa6nbEDN1d6k"
      },
      "execution_count": 15,
      "outputs": []
    },
    {
      "cell_type": "code",
      "source": [
        "doc_embeddings = []\n",
        "for sentence in doubtfulcase['Text']:\n",
        "    words = sentence.split()\n",
        "    vectors = [model.wv.get_vector(word) for word in words if word in model.wv.key_to_index]\n",
        "    if vectors:\n",
        "        mean_vector = np.mean(vectors, axis=0)\n",
        "        doc_embeddings.append(mean_vector)\n",
        "    else:\n",
        "        doc_embeddings.append(np.zeros(model.vector_size))"
      ],
      "metadata": {
        "id": "3emYzlMS2rEL"
      },
      "execution_count": 25,
      "outputs": []
    },
    {
      "cell_type": "code",
      "source": [
        "len(doc_embeddings)"
      ],
      "metadata": {
        "colab": {
          "base_uri": "https://localhost:8080/"
        },
        "id": "XzM6XpGt1pCr",
        "outputId": "183a5805-ac73-4f2a-d06e-ab7aca849237"
      },
      "execution_count": 26,
      "outputs": [
        {
          "output_type": "execute_result",
          "data": {
            "text/plain": [
              "113"
            ]
          },
          "metadata": {},
          "execution_count": 26
        }
      ]
    },
    {
      "cell_type": "code",
      "source": [
        "# new_comment=\"This is an example sentence.\"\n",
        "# pre_new_comment = preprocess_text(new_comment)\n",
        "# embeddings = get_word2vec_embedding(pre_new_comment)\n",
        "\n",
        "# # Data type of array element\n",
        "# Data_type = float\n",
        "\n",
        "# # This cause Value error\n",
        "# np_array = np.array(embeddings, dtype=Data_type)\n",
        "\n",
        "\n",
        "# embeddings = np.reshape(embeddings, (1, -1))\n",
        "# Predict the class label for the new record\n",
        "# predicted_class = classifiers[-1].predict(embeddings)\n",
        "predicted_class = loaded_model[-1].predict(doc_embeddings)\n",
        "# Print the predicted class\n",
        "print(predicted_class)"
      ],
      "metadata": {
        "colab": {
          "base_uri": "https://localhost:8080/"
        },
        "id": "3lJaf_tp2Ul8",
        "outputId": "c1987393-2e6d-43fc-93e1-7338346af537"
      },
      "execution_count": 27,
      "outputs": [
        {
          "output_type": "stream",
          "name": "stdout",
          "text": [
            "[0 0 0 0 0 0 0 0 0 0 0 0 0 0 0 0 0 0 0 0 0 0 0 0 0 0 0 0 0 0 0 0 0 0 0 0 0\n",
            " 0 0 0 0 0 0 0 0 0 0 0 0 0 0 0 0 0 0 0 0 0 0 0 0 0 0 0 0 0 0 0 0 0 0 0 0 0\n",
            " 0 0 0 0 0 0 0 0 0 0 0 0 0 0 0 0 0 0 0 0 0 0 0 0 0 0 0 0 0 0 0 0 0 0 0 0 0\n",
            " 0 0]\n"
          ]
        }
      ]
    },
    {
      "cell_type": "code",
      "source": [
        "len(predicted_class)"
      ],
      "metadata": {
        "id": "YWdw-Tk52Ujf",
        "colab": {
          "base_uri": "https://localhost:8080/"
        },
        "outputId": "d9fb843e-d684-4399-ad2e-6045f1d99dc1"
      },
      "execution_count": 28,
      "outputs": [
        {
          "output_type": "execute_result",
          "data": {
            "text/plain": [
              "113"
            ]
          },
          "metadata": {},
          "execution_count": 28
        }
      ]
    },
    {
      "cell_type": "code",
      "source": [
        "xgb_model = load('/content/drive/MyDrive/Documents/xgb_model.joblib')"
      ],
      "metadata": {
        "id": "3bfckDnX16cE"
      },
      "execution_count": 29,
      "outputs": []
    },
    {
      "cell_type": "code",
      "source": [
        "predicted_class = xgb_model.predict(doc_embeddings)\n",
        "# Print the predicted class\n",
        "print(predicted_class)"
      ],
      "metadata": {
        "id": "1hhGs7F03AWW",
        "outputId": "c3307cf6-5f45-4278-ea79-e13fd652d787",
        "colab": {
          "base_uri": "https://localhost:8080/"
        }
      },
      "execution_count": 30,
      "outputs": [
        {
          "output_type": "stream",
          "name": "stdout",
          "text": [
            "[0 0 0 0 0 0 0 0 0 0 0 0 0 0 0 0 0 0 0 0 0 0 0 0 0 0 0 0 0 0 0 0 0 0 0 0 0\n",
            " 0 0 0 0 0 0 0 0 0 0 0 0 0 0 0 0 0 0 0 0 0 0 0 0 0 0 0 0 0 0 0 0 0 0 0 0 0\n",
            " 0 0 0 0 0 0 0 0 0 0 0 0 0 0 0 0 0 0 0 0 0 0 0 0 0 0 0 0 0 0 0 0 0 0 0 0 0\n",
            " 0 0]\n"
          ]
        }
      ]
    },
    {
      "cell_type": "code",
      "source": [],
      "metadata": {
        "id": "TMhW0lga3Oks"
      },
      "execution_count": null,
      "outputs": []
    }
  ]
}