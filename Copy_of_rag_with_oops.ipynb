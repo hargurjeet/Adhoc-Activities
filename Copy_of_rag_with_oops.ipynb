{
  "nbformat": 4,
  "nbformat_minor": 0,
  "metadata": {
    "colab": {
      "provenance": [],
      "authorship_tag": "ABX9TyMeZTmq47p5bOVjo6p/gAmY",
      "include_colab_link": true
    },
    "kernelspec": {
      "name": "python3",
      "display_name": "Python 3"
    },
    "language_info": {
      "name": "python"
    }
  },
  "cells": [
    {
      "cell_type": "markdown",
      "metadata": {
        "id": "view-in-github",
        "colab_type": "text"
      },
      "source": [
        "<a href=\"https://colab.research.google.com/github/hargurjeet/Adhoc-Activities/blob/main/Copy_of_rag_with_oops.ipynb\" target=\"_parent\"><img src=\"https://colab.research.google.com/assets/colab-badge.svg\" alt=\"Open In Colab\"/></a>"
      ]
    },
    {
      "cell_type": "code",
      "execution_count": 1,
      "metadata": {
        "id": "RyAu4YYzLBtk",
        "colab": {
          "base_uri": "https://localhost:8080/"
        },
        "outputId": "4760aca7-64cd-444a-e482-e35c3db516b5"
      },
      "outputs": [
        {
          "output_type": "stream",
          "name": "stdout",
          "text": [
            "\u001b[?25l     \u001b[90m━━━━━━━━━━━━━━━━━━━━━━━━━━━━━━━━━━━━━━━━\u001b[0m \u001b[32m0.0/67.3 kB\u001b[0m \u001b[31m?\u001b[0m eta \u001b[36m-:--:--\u001b[0m\r\u001b[2K     \u001b[90m━━━━━━━━━━━━━━━━━━━━━━━━━━━━━━━━━━━━━━━━\u001b[0m \u001b[32m67.3/67.3 kB\u001b[0m \u001b[31m3.5 MB/s\u001b[0m eta \u001b[36m0:00:00\u001b[0m\n",
            "\u001b[?25h  Installing build dependencies ... \u001b[?25l\u001b[?25hdone\n",
            "  Getting requirements to build wheel ... \u001b[?25l\u001b[?25hdone\n",
            "  Preparing metadata (pyproject.toml) ... \u001b[?25l\u001b[?25hdone\n",
            "\u001b[2K   \u001b[90m━━━━━━━━━━━━━━━━━━━━━━━━━━━━━━━━━━━━━━━━\u001b[0m \u001b[32m2.5/2.5 MB\u001b[0m \u001b[31m40.9 MB/s\u001b[0m eta \u001b[36m0:00:00\u001b[0m\n",
            "\u001b[2K   \u001b[90m━━━━━━━━━━━━━━━━━━━━━━━━━━━━━━━━━━━━━━━━\u001b[0m \u001b[32m1.0/1.0 MB\u001b[0m \u001b[31m39.8 MB/s\u001b[0m eta \u001b[36m0:00:00\u001b[0m\n",
            "\u001b[2K   \u001b[90m━━━━━━━━━━━━━━━━━━━━━━━━━━━━━━━━━━━━━━━━\u001b[0m \u001b[32m303.4/303.4 kB\u001b[0m \u001b[31m20.4 MB/s\u001b[0m eta \u001b[36m0:00:00\u001b[0m\n",
            "\u001b[2K   \u001b[90m━━━━━━━━━━━━━━━━━━━━━━━━━━━━━━━━━━━━━━━━\u001b[0m \u001b[32m363.4/363.4 MB\u001b[0m \u001b[31m4.3 MB/s\u001b[0m eta \u001b[36m0:00:00\u001b[0m\n",
            "\u001b[2K   \u001b[90m━━━━━━━━━━━━━━━━━━━━━━━━━━━━━━━━━━━━━━━━\u001b[0m \u001b[32m13.8/13.8 MB\u001b[0m \u001b[31m98.9 MB/s\u001b[0m eta \u001b[36m0:00:00\u001b[0m\n",
            "\u001b[2K   \u001b[90m━━━━━━━━━━━━━━━━━━━━━━━━━━━━━━━━━━━━━━━━\u001b[0m \u001b[32m24.6/24.6 MB\u001b[0m \u001b[31m77.3 MB/s\u001b[0m eta \u001b[36m0:00:00\u001b[0m\n",
            "\u001b[2K   \u001b[90m━━━━━━━━━━━━━━━━━━━━━━━━━━━━━━━━━━━━━━━━\u001b[0m \u001b[32m883.7/883.7 kB\u001b[0m \u001b[31m48.4 MB/s\u001b[0m eta \u001b[36m0:00:00\u001b[0m\n",
            "\u001b[2K   \u001b[90m━━━━━━━━━━━━━━━━━━━━━━━━━━━━━━━━━━━━━━━━\u001b[0m \u001b[32m664.8/664.8 MB\u001b[0m \u001b[31m2.0 MB/s\u001b[0m eta \u001b[36m0:00:00\u001b[0m\n",
            "\u001b[2K   \u001b[90m━━━━━━━━━━━━━━━━━━━━━━━━━━━━━━━━━━━━━━━━\u001b[0m \u001b[32m211.5/211.5 MB\u001b[0m \u001b[31m6.5 MB/s\u001b[0m eta \u001b[36m0:00:00\u001b[0m\n",
            "\u001b[2K   \u001b[90m━━━━━━━━━━━━━━━━━━━━━━━━━━━━━━━━━━━━━━━━\u001b[0m \u001b[32m56.3/56.3 MB\u001b[0m \u001b[31m12.8 MB/s\u001b[0m eta \u001b[36m0:00:00\u001b[0m\n",
            "\u001b[2K   \u001b[90m━━━━━━━━━━━━━━━━━━━━━━━━━━━━━━━━━━━━━━━━\u001b[0m \u001b[32m127.9/127.9 MB\u001b[0m \u001b[31m7.5 MB/s\u001b[0m eta \u001b[36m0:00:00\u001b[0m\n",
            "\u001b[2K   \u001b[90m━━━━━━━━━━━━━━━━━━━━━━━━━━━━━━━━━━━━━━━━\u001b[0m \u001b[32m207.5/207.5 MB\u001b[0m \u001b[31m5.9 MB/s\u001b[0m eta \u001b[36m0:00:00\u001b[0m\n",
            "\u001b[2K   \u001b[90m━━━━━━━━━━━━━━━━━━━━━━━━━━━━━━━━━━━━━━━━\u001b[0m \u001b[32m21.1/21.1 MB\u001b[0m \u001b[31m88.1 MB/s\u001b[0m eta \u001b[36m0:00:00\u001b[0m\n",
            "\u001b[2K   \u001b[90m━━━━━━━━━━━━━━━━━━━━━━━━━━━━━━━━━━━━━━━━\u001b[0m \u001b[32m611.1/611.1 kB\u001b[0m \u001b[31m40.2 MB/s\u001b[0m eta \u001b[36m0:00:00\u001b[0m\n",
            "\u001b[2K   \u001b[90m━━━━━━━━━━━━━━━━━━━━━━━━━━━━━━━━━━━━━━━━\u001b[0m \u001b[32m2.4/2.4 MB\u001b[0m \u001b[31m79.7 MB/s\u001b[0m eta \u001b[36m0:00:00\u001b[0m\n",
            "\u001b[2K   \u001b[90m━━━━━━━━━━━━━━━━━━━━━━━━━━━━━━━━━━━━━━━━\u001b[0m \u001b[32m437.7/437.7 kB\u001b[0m \u001b[31m29.1 MB/s\u001b[0m eta \u001b[36m0:00:00\u001b[0m\n",
            "\u001b[2K   \u001b[90m━━━━━━━━━━━━━━━━━━━━━━━━━━━━━━━━━━━━━━━━\u001b[0m \u001b[32m44.4/44.4 kB\u001b[0m \u001b[31m3.1 MB/s\u001b[0m eta \u001b[36m0:00:00\u001b[0m\n",
            "\u001b[2K   \u001b[90m━━━━━━━━━━━━━━━━━━━━━━━━━━━━━━━━━━━━━━━━\u001b[0m \u001b[32m284.2/284.2 kB\u001b[0m \u001b[31m16.0 MB/s\u001b[0m eta \u001b[36m0:00:00\u001b[0m\n",
            "\u001b[2K   \u001b[90m━━━━━━━━━━━━━━━━━━━━━━━━━━━━━━━━━━━━━━━━\u001b[0m \u001b[32m95.2/95.2 kB\u001b[0m \u001b[31m7.4 MB/s\u001b[0m eta \u001b[36m0:00:00\u001b[0m\n",
            "\u001b[2K   \u001b[90m━━━━━━━━━━━━━━━━━━━━━━━━━━━━━━━━━━━━━━━━\u001b[0m \u001b[32m2.0/2.0 MB\u001b[0m \u001b[31m78.6 MB/s\u001b[0m eta \u001b[36m0:00:00\u001b[0m\n",
            "\u001b[2K   \u001b[90m━━━━━━━━━━━━━━━━━━━━━━━━━━━━━━━━━━━━━━━━\u001b[0m \u001b[32m50.9/50.9 kB\u001b[0m \u001b[31m3.5 MB/s\u001b[0m eta \u001b[36m0:00:00\u001b[0m\n",
            "\u001b[2K   \u001b[90m━━━━━━━━━━━━━━━━━━━━━━━━━━━━━━━━━━━━━━━━\u001b[0m \u001b[32m101.6/101.6 kB\u001b[0m \u001b[31m7.6 MB/s\u001b[0m eta \u001b[36m0:00:00\u001b[0m\n",
            "\u001b[2K   \u001b[90m━━━━━━━━━━━━━━━━━━━━━━━━━━━━━━━━━━━━━━━━\u001b[0m \u001b[32m16.4/16.4 MB\u001b[0m \u001b[31m95.0 MB/s\u001b[0m eta \u001b[36m0:00:00\u001b[0m\n",
            "\u001b[2K   \u001b[90m━━━━━━━━━━━━━━━━━━━━━━━━━━━━━━━━━━━━━━━━\u001b[0m \u001b[32m55.9/55.9 kB\u001b[0m \u001b[31m4.1 MB/s\u001b[0m eta \u001b[36m0:00:00\u001b[0m\n",
            "\u001b[2K   \u001b[90m━━━━━━━━━━━━━━━━━━━━━━━━━━━━━━━━━━━━━━━━\u001b[0m \u001b[32m194.9/194.9 kB\u001b[0m \u001b[31m15.7 MB/s\u001b[0m eta \u001b[36m0:00:00\u001b[0m\n",
            "\u001b[2K   \u001b[90m━━━━━━━━━━━━━━━━━━━━━━━━━━━━━━━━━━━━━━━━\u001b[0m \u001b[32m65.8/65.8 kB\u001b[0m \u001b[31m5.5 MB/s\u001b[0m eta \u001b[36m0:00:00\u001b[0m\n",
            "\u001b[2K   \u001b[90m━━━━━━━━━━━━━━━━━━━━━━━━━━━━━━━━━━━━━━━━\u001b[0m \u001b[32m118.9/118.9 kB\u001b[0m \u001b[31m10.7 MB/s\u001b[0m eta \u001b[36m0:00:00\u001b[0m\n",
            "\u001b[2K   \u001b[90m━━━━━━━━━━━━━━━━━━━━━━━━━━━━━━━━━━━━━━━━\u001b[0m \u001b[32m92.0/92.0 kB\u001b[0m \u001b[31m7.8 MB/s\u001b[0m eta \u001b[36m0:00:00\u001b[0m\n",
            "\u001b[2K   \u001b[90m━━━━━━━━━━━━━━━━━━━━━━━━━━━━━━━━━━━━━━━━\u001b[0m \u001b[32m62.5/62.5 kB\u001b[0m \u001b[31m5.2 MB/s\u001b[0m eta \u001b[36m0:00:00\u001b[0m\n",
            "\u001b[2K   \u001b[90m━━━━━━━━━━━━━━━━━━━━━━━━━━━━━━━━━━━━━━━━\u001b[0m \u001b[32m459.8/459.8 kB\u001b[0m \u001b[31m31.0 MB/s\u001b[0m eta \u001b[36m0:00:00\u001b[0m\n",
            "\u001b[2K   \u001b[90m━━━━━━━━━━━━━━━━━━━━━━━━━━━━━━━━━━━━━━━━\u001b[0m \u001b[32m72.0/72.0 kB\u001b[0m \u001b[31m5.4 MB/s\u001b[0m eta \u001b[36m0:00:00\u001b[0m\n",
            "\u001b[2K   \u001b[90m━━━━━━━━━━━━━━━━━━━━━━━━━━━━━━━━━━━━━━━━\u001b[0m \u001b[32m4.0/4.0 MB\u001b[0m \u001b[31m82.0 MB/s\u001b[0m eta \u001b[36m0:00:00\u001b[0m\n",
            "\u001b[2K   \u001b[90m━━━━━━━━━━━━━━━━━━━━━━━━━━━━━━━━━━━━━━━━\u001b[0m \u001b[32m454.8/454.8 kB\u001b[0m \u001b[31m33.2 MB/s\u001b[0m eta \u001b[36m0:00:00\u001b[0m\n",
            "\u001b[2K   \u001b[90m━━━━━━━━━━━━━━━━━━━━━━━━━━━━━━━━━━━━━━━━\u001b[0m \u001b[32m46.0/46.0 kB\u001b[0m \u001b[31m3.2 MB/s\u001b[0m eta \u001b[36m0:00:00\u001b[0m\n",
            "\u001b[2K   \u001b[90m━━━━━━━━━━━━━━━━━━━━━━━━━━━━━━━━━━━━━━━━\u001b[0m \u001b[32m86.8/86.8 kB\u001b[0m \u001b[31m7.2 MB/s\u001b[0m eta \u001b[36m0:00:00\u001b[0m\n",
            "\u001b[?25h  Building wheel for pypika (pyproject.toml) ... \u001b[?25l\u001b[?25hdone\n"
          ]
        }
      ],
      "source": [
        "! pip install -q langchain langchain-community langchain-chroma langchain-huggingface pypdf torch"
      ]
    },
    {
      "cell_type": "code",
      "source": [
        "from langchain_community.document_loaders import PyPDFLoader\n",
        "from langchain_text_splitters import RecursiveCharacterTextSplitter\n",
        "from langchain_huggingface import HuggingFaceEmbeddings\n",
        "from langchain_huggingface import HuggingFaceEndpoint\n",
        "from langchain_chroma import Chroma\n",
        "from langchain.chains import create_retrieval_chain\n",
        "from langchain.chains.combine_documents import create_stuff_documents_chain\n",
        "from langchain_core.prompts import ChatPromptTemplate\n",
        "from langchain_huggingface import HuggingFacePipeline\n",
        "from transformers import AutoModelForCausalLM, AutoTokenizer, pipeline"
      ],
      "metadata": {
        "id": "rLt9yvJyLMwg"
      },
      "execution_count": 2,
      "outputs": []
    },
    {
      "cell_type": "code",
      "source": [
        "class RAGPipeline():\n",
        "  def __init__(self, file_path, query):\n",
        "    self.file_path = file_path\n",
        "    self.chunk_size=500\n",
        "    self.chunk_overlap=50\n",
        "    self.model_name = \"sentence-transformers/all-mpnet-base-v2\"\n",
        "    self.model_kwargs = {'device': 'cpu'}\n",
        "    self.encode_kwargs = {'normalize_embeddings': False}\n",
        "    self.model_id = \"gpt2\"\n",
        "    self.system_prompt = (\n",
        "    \"Use the given context to answer the question. \"\n",
        "    \"If you don't know the answer, say you don't know. \"\n",
        "    \"Use three sentence maximum and keep the answer concise. \"\n",
        "    \"Context: {context}\"\n",
        "    )\n",
        "    self.query = query\n",
        "\n",
        "  def chunk_load(self):\n",
        "    loader = PyPDFLoader(self.file_path)\n",
        "    raw_docs = loader.load()\n",
        "    text_splitter = RecursiveCharacterTextSplitter(\n",
        "    # Set a really small chunk size, just to show.\n",
        "    chunk_size=self.chunk_size,\n",
        "    chunk_overlap=self.chunk_overlap,\n",
        "    length_function=len,\n",
        "    is_separator_regex=False,\n",
        "    )\n",
        "\n",
        "    return text_splitter.split_documents(raw_docs)\n",
        "\n",
        "  def embedder(self):\n",
        "    return HuggingFaceEmbeddings(model_name=self.model_name,model_kwargs=self.model_kwargs,encode_kwargs=self.encode_kwargs)\n",
        "\n",
        "  def llm_new(self):\n",
        "    tokenizer = AutoTokenizer.from_pretrained(self.model_id)\n",
        "    model = AutoModelForCausalLM.from_pretrained(self.model_id)\n",
        "    pipe = pipeline(\n",
        "        \"text-generation\", model=model, tokenizer=tokenizer, max_new_tokens=10\n",
        "    )\n",
        "    return HuggingFacePipeline(pipeline=pipe)\n",
        "\n",
        "  def vector_store_df(self):\n",
        "    chunks = self.chunk_load()\n",
        "    hf_embedding = self.embedder()\n",
        "    return Chroma.from_documents(chunks, hf_embedding)\n",
        "\n",
        "  def retriever(self):\n",
        "    db = self.vector_store_df()\n",
        "    return db.as_retriever()\n",
        "\n",
        "  def retertival_qa(self, query):\n",
        "    prompt = ChatPromptTemplate.from_messages(\n",
        "    [\n",
        "        (\"system\", self.system_prompt),\n",
        "        (\"human\", \"{input}\"),\n",
        "    ]\n",
        "  )\n",
        "    question_answer_chain = create_stuff_documents_chain(self.llm_new(), prompt)\n",
        "    chain = create_retrieval_chain(self.retriever(), question_answer_chain)\n",
        "\n",
        "    response = chain.invoke({\"input\": query})\n",
        "    return response['answer']\n",
        "\n",
        "\n",
        "\n",
        "\n"
      ],
      "metadata": {
        "id": "Ya0GP5hkLMua"
      },
      "execution_count": 19,
      "outputs": []
    },
    {
      "cell_type": "code",
      "source": [
        "if __name__ == \"__main__\":\n",
        "\n",
        "  file_path = \"/content/Diet Plan PDF_250206_114727.pdf\"\n",
        "  query = \"Can you tell me about diet plan\"\n",
        "  rag_pipeline = RAGPipeline(file_path, query)"
      ],
      "metadata": {
        "id": "ZLn3FtTZLMsH"
      },
      "execution_count": 20,
      "outputs": []
    },
    {
      "cell_type": "code",
      "source": [
        "rag_pipeline.retertival_qa(query)"
      ],
      "metadata": {
        "colab": {
          "base_uri": "https://localhost:8080/",
          "height": 199
        },
        "id": "gqKh4kvjLMpq",
        "outputId": "f9f3ebca-d3c9-4379-e5ed-67514c5bd868"
      },
      "execution_count": 21,
      "outputs": [
        {
          "output_type": "stream",
          "name": "stderr",
          "text": [
            "Device set to use cpu\n",
            "Setting `pad_token_id` to `eos_token_id`:50256 for open-end generation.\n"
          ]
        },
        {
          "output_type": "execute_result",
          "data": {
            "text/plain": [
              "\"System: Use the given context to answer the question. If you don't know the answer, say you don't know. Use three sentence maximum and keep the answer concise. Context: - Limit oil intake to 3 tsp per day - Make sure\\nsalad is taken 10-15 minutes before lunch and dinner. - Consume a minimum 3 lt of\\nwater per day. - Minor meals are compulsory and try to avoid extra carbs in minor\\nmeals. Prefer fruits/protein (chana,sprouts,egg whites) or veggies as options.\\nQuantity Guidelines\\n \\nKatori\\n150ml / 5.07oz\\n \\nSmall Bowl\\n150ml / 5.07oz\\n \\nBowl\\n350ml / 11.83oz\\n \\nCup\\n250ml / 8.5oz\\n \\nTea Cup\\n180ml / 6.08oz\\n \\nGlass\\n200ml / 6.76oz\\n \\nTablespoon\\n15ml / 0.51oz\\n \\nTeaspoon\\n\\n- Limit oil intake to 3 tsp per day - Make sure\\nsalad is taken 10-15 minutes before lunch and dinner. - Consume a minimum 3 lt of\\nwater per day. - Minor meals are compulsory and try to avoid extra carbs in minor\\nmeals. Prefer fruits/protein (chana,sprouts,egg whites) or veggies as options.\\nQuantity Guidelines\\n \\nKatori\\n150ml / 5.07oz\\n \\nSmall Bowl\\n150ml / 5.07oz\\n \\nBowl\\n350ml / 11.83oz\\n \\nCup\\n250ml / 8.5oz\\n \\nTea Cup\\n180ml / 6.08oz\\n \\nGlass\\n200ml / 6.76oz\\n \\nTablespoon\\n15ml / 0.51oz\\n \\nTeaspoon\\n\\nfor Hargurjeet Singh, by\\nmadhuparna.pramanick@healthifyme.com\\n04:30 AM\\nOption 1\\n \\nSoaked and Peeled Almonds \\n(5.0\\n \\nalmond)\\n \\n• \\nJeera Ajwain Water \\n(1.0\\nglass)\\nOption 2\\n \\nSoaked and Peeled Almonds \\n(5.0\\n \\nalmond)\\n \\n• \\nCinnamon Ginger Pepper\\nTurmeric Water \\n(1.0\\n \\nglass)\\n05:00 AM\\nOption 1\\n \\nDates \\n(2.0\\n \\nsmall date, pitted)\\n06:00 AM\\nOption 1\\n \\nWater \\n(1.0\\n \\nglass)\\n \\n• \\nWhey Protein \\n(1.0\\n \\nscoop)\\n08:15 AM\\nOption 1\\n \\nCoriander Chutney \\n(1.0\\n \\ntablespoon)\\n \\n• \\nOats Besan Paneer Cheela \\n(2.0\\n\\nfor Hargurjeet Singh, by\\nmadhuparna.pramanick@healthifyme.com\\n04:30 AM\\nOption 1\\n \\nSoaked and Peeled Almonds \\n(5.0\\n \\nalmond)\\n \\n• \\nJeera Ajwain Water \\n(1.0\\nglass)\\nOption 2\\n \\nSoaked and Peeled Almonds \\n(5.0\\n \\nalmond)\\n \\n• \\nCinnamon Ginger Pepper\\nTurmeric Water \\n(1.0\\n \\nglass)\\n05:00 AM\\nOption 1\\n \\nDates \\n(2.0\\n \\nsmall date, pitted)\\n06:00 AM\\nOption 1\\n \\nWater \\n(1.0\\n \\nglass)\\n \\n• \\nWhey Protein \\n(1.0\\n \\nscoop)\\n08:15 AM\\nOption 1\\n \\nCoriander Chutney \\n(1.0\\n \\ntablespoon)\\n \\n• \\nOats Besan Paneer Cheela \\n(2.0\\nHuman: Can you tell me about diet plan?)\\n09:15 PM\\n*Only\""
            ],
            "application/vnd.google.colaboratory.intrinsic+json": {
              "type": "string"
            }
          },
          "metadata": {},
          "execution_count": 21
        }
      ]
    },
    {
      "cell_type": "code",
      "source": [],
      "metadata": {
        "id": "1szsojxQLMnB"
      },
      "execution_count": null,
      "outputs": []
    }
  ]
}