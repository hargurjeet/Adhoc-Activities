{
  "cells": [
    {
      "cell_type": "markdown",
      "metadata": {
        "id": "view-in-github",
        "colab_type": "text"
      },
      "source": [
        "<a href=\"https://colab.research.google.com/github/hargurjeet/Adhoc-Activities/blob/main/Neural_Nets_Project_Starter_Code.ipynb\" target=\"_parent\"><img src=\"https://colab.research.google.com/assets/colab-badge.svg\" alt=\"Open In Colab\"/></a>"
      ]
    },
    {
      "cell_type": "markdown",
      "metadata": {
        "id": "1hXC3pk-9yWo"
      },
      "source": [
        "# Gesture Recognition\n",
        "In this group project, you are going to build a 3D Conv model that will be able to predict the 5 gestures correctly. Please import the following libraries to get started."
      ]
    },
    {
      "cell_type": "code",
      "execution_count": 1,
      "metadata": {
        "id": "mQzekUF99yWy"
      },
      "outputs": [],
      "source": [
        "import numpy as np\n",
        "import os, imageio, zipfile\n",
        "import imageio.v2 as imageio\n",
        "# from scipy.misc import imread, imresize\n",
        "import datetime\n",
        "import os\n",
        "from skimage import io\n",
        "from skimage.transform import resize\n",
        "import numpy as np"
      ]
    },
    {
      "cell_type": "markdown",
      "metadata": {
        "id": "BJUFc2409yW2"
      },
      "source": [
        "We set the random seed so that the results don't vary drastically."
      ]
    },
    {
      "cell_type": "code",
      "execution_count": 2,
      "metadata": {
        "id": "rwBwjvxO9yW3"
      },
      "outputs": [],
      "source": [
        "np.random.seed(30)\n",
        "import random as rn\n",
        "rn.seed(30)\n",
        "from keras import backend as K\n",
        "import tensorflow as tf\n",
        "tf.random.set_seed(30)"
      ]
    },
    {
      "cell_type": "code",
      "source": [
        "from google.colab import drive\n",
        "drive.mount('/content/drive')"
      ],
      "metadata": {
        "colab": {
          "base_uri": "https://localhost:8080/"
        },
        "id": "tpRHFEZX-TxR",
        "outputId": "0da31789-99cd-4fa6-c007-80b489c81dcd"
      },
      "execution_count": 3,
      "outputs": [
        {
          "output_type": "stream",
          "name": "stdout",
          "text": [
            "Mounted at /content/drive\n"
          ]
        }
      ]
    },
    {
      "cell_type": "code",
      "source": [
        "# # Specify the path to the zip file\n",
        "# zip_file_path = r'/content/drive/MyDrive/Upgrad/Gesture Recognition/Project_data.zip'\n",
        "\n",
        "# # Create a ZipFile object\n",
        "# with zipfile.ZipFile(zip_file_path, 'r') as zip_ref:\n",
        "#     # Extract all the contents of the zip file to a folder\n",
        "#     zip_ref.extractall('/content/drive/MyDrive/Upgrad/Gesture Recognition/Unzipped data')"
      ],
      "metadata": {
        "id": "jNwKoozHAJsO"
      },
      "execution_count": 4,
      "outputs": []
    },
    {
      "cell_type": "markdown",
      "metadata": {
        "id": "iOkgc1ew9yW4"
      },
      "source": [
        "In this block, you read the folder names for training and validation. You also set the `batch_size` here. Note that you set the batch size in such a way that you are able to use the GPU in full capacity. You keep increasing the batch size until the machine throws an error."
      ]
    },
    {
      "cell_type": "code",
      "execution_count": 5,
      "metadata": {
        "id": "AuWwUCKN9yW5"
      },
      "outputs": [],
      "source": [
        "train_doc = np.random.permutation(open('/content/drive/MyDrive/Upgrad/Gesture Recognition/Unzipped data/Project_data/train.csv').readlines())\n",
        "val_doc = np.random.permutation(open('/content/drive/MyDrive/Upgrad/Gesture Recognition/Unzipped data/Project_data/val.csv').readlines())\n",
        "batch_size = 10"
      ]
    },
    {
      "cell_type": "code",
      "source": [
        "import os\n",
        "\n",
        "# specify the directory path\n",
        "path = \"/content/drive/MyDrive/Upgrad/Gesture Recognition/Unzipped data/Project_data/train\"\n",
        "\n",
        "# get all the folder names in the directory\n",
        "folder_names = [f for f in os.listdir(path) if os.path.isdir(os.path.join(path, f))]\n",
        "\n",
        "# print the folder names\n",
        "print(folder_names)"
      ],
      "metadata": {
        "colab": {
          "base_uri": "https://localhost:8080/"
        },
        "id": "6tYOZmuQ42G7",
        "outputId": "eab35557-b214-4674-fd56-1290f11aa47c"
      },
      "execution_count": 6,
      "outputs": [
        {
          "output_type": "stream",
          "name": "stdout",
          "text": [
            "['WIN_20180907_15_35_09_Pro_Right Swipe_new', 'WIN_20180907_15_38_17_Pro_Left Swipe_new_Left Swipe_new', 'WIN_20180907_15_38_24_Pro_Right Swipe_new', 'WIN_20180907_15_38_35_Pro_Thumbs Down_new', 'WIN_20180907_15_39_51_Pro_Stop Gesture_new', 'WIN_20180907_15_39_54_Pro_Thumbs Up_new', 'WIN_20180907_15_40_26_Pro_Thumbs Down_new', 'WIN_20180907_15_40_55_Pro_Thumbs Up_new', 'WIN_20180907_15_41_54_Pro_Right Swipe_new', 'WIN_20180907_15_43_00_Pro_Left Swipe_new_Left Swipe_new', 'WIN_20180907_15_43_28_Pro_Right Swipe_new', 'WIN_20180907_15_43_40_Pro_Stop Gesture_new', 'WIN_20180907_15_43_58_Pro_Left Swipe_new_Left Swipe_new', 'WIN_20180907_15_44_13_Pro_Stop Gesture_new', 'WIN_20180907_15_44_32_Pro_Thumbs Down_new', 'WIN_20180907_15_44_36_Pro_Right Swipe_new', 'WIN_20180907_15_44_55_Pro_Stop Gesture_new', 'WIN_20180907_15_45_30_Pro_Thumbs Up_new', 'WIN_20180907_15_45_40_Pro_Left Swipe_new_Left Swipe_new', 'WIN_20180907_15_45_56_Pro_Thumbs Down_new', 'WIN_20180907_15_46_25_Pro_Stop Gesture_new', 'WIN_20180907_15_46_43_Pro_Left Swipe_new_Left Swipe_new', 'WIN_20180907_15_47_19_Pro_Thumbs Up_new', 'WIN_20180907_15_48_01_Pro_Stop Gesture_new', 'WIN_20180907_15_48_25_Pro_Thumbs Down_new', 'WIN_20180907_15_49_02_Pro_Left Swipe_new_Left Swipe_new', 'WIN_20180907_15_49_14_Pro_Thumbs Down_new', 'WIN_20180907_15_49_56_Pro_Right Swipe_new', 'WIN_20180907_15_49_58_Pro_Stop Gesture_new', 'WIN_20180907_15_49_59_Pro_Thumbs Up_new', 'WIN_20180907_15_50_05_Pro_Left Swipe_new_Left Swipe_new', 'WIN_20180907_15_50_33_Pro_Left Swipe_new_Left Swipe_new', 'WIN_20180907_15_51_07_Pro_Left Swipe_new_Left Swipe_new', 'WIN_20180907_15_51_58_Pro_Right Swipe_new', 'WIN_20180907_15_52_03_Pro_Stop Gesture_new', 'WIN_20180907_15_52_28_Pro_Left Swipe_new_Left Swipe_new', 'WIN_20180907_15_53_00_Pro_Thumbs Down_new', 'WIN_20180907_15_53_12_Pro_Thumbs Up_new', 'WIN_20180907_15_53_18_Pro_Right Swipe_new', 'WIN_20180907_15_54_06_Pro_Stop Gesture_new', 'WIN_20180907_15_54_27_Pro_Thumbs Down_new', 'WIN_20180907_15_54_42_Pro_Left Swipe_new_Left Swipe_new', 'WIN_20180907_15_55_22_Pro_Stop Gesture_new', 'WIN_20180907_15_55_27_Pro_Thumbs Down_new', 'WIN_20180907_15_56_07_Pro_Stop Gesture_new', 'WIN_20180907_15_56_12_Pro_Thumbs Down_new', 'WIN_20180907_15_56_26_Pro_Thumbs Up_new', 'WIN_20180907_15_56_32_Pro_Left Swipe_new_Left Swipe_new', 'WIN_20180907_15_56_38_Pro_Right Swipe_new', 'WIN_20180907_15_57_30_Pro_Stop Gesture_new', 'WIN_20180907_15_57_35_Pro_Thumbs Up_new', 'WIN_20180907_15_58_17_Pro_Left Swipe_new_Left Swipe_new', 'WIN_20180907_15_58_38_Pro_Thumbs Down_new', 'WIN_20180907_15_58_45_Pro_Left Swipe_new_Left Swipe_new', 'WIN_20180907_15_59_12_Pro_Stop Gesture_new', 'WIN_20180907_15_59_28_Pro_Thumbs Up_new', 'WIN_20180907_15_59_44_Pro_Right Swipe_new', 'WIN_20180907_16_00_27_Pro_Stop Gesture_new', 'WIN_20180907_16_00_54_Pro_Right Swipe_new', 'WIN_20180907_16_01_20_Pro_Thumbs Up_new', 'WIN_20180907_16_01_34_Pro_Left Swipe_new_Left Swipe_new', 'WIN_20180907_16_01_35_Pro_Thumbs Down_new', 'WIN_20180907_16_02_07_Pro_Stop Gesture_new', 'WIN_20180907_16_02_21_Pro_Left Swipe_new_Left Swipe_new', 'WIN_20180907_16_02_30_Pro_Thumbs Up_new', 'WIN_20180907_16_02_59_Pro_Stop Gesture_new', 'WIN_20180907_16_03_09_Pro_Thumbs Down_new', 'WIN_20180907_16_03_54_Pro_Right Swipe_new', 'WIN_20180907_16_04_13_Pro_Thumbs Down_new', 'WIN_20180907_16_04_14_Pro_Left Swipe_new_Left Swipe_new', 'WIN_20180907_16_04_16_Pro_Thumbs Up_new', 'WIN_20180907_16_04_43_Pro_Stop Gesture_new', 'WIN_20180907_16_04_51_Pro_Left Swipe_new_Left Swipe_new', 'WIN_20180907_16_05_08_Pro_Stop Gesture_new', 'WIN_20180907_16_05_58_Pro_Stop Gesture_new', 'WIN_20180907_16_06_16_Pro_Left Swipe_new_Left Swipe_new', 'WIN_20180907_16_06_32_Pro_Thumbs Up_new', 'WIN_20180907_16_06_35_Pro_Thumbs Down_new', 'WIN_20180907_16_06_43_Pro_Stop Gesture_new', 'WIN_20180907_16_07_43_Pro_Right Swipe_new', 'WIN_20180907_16_07_46_Pro_Left Swipe_new_Left Swipe_new', 'WIN_20180907_16_07_50_Pro_Thumbs Down_new', 'WIN_20180907_16_07_57_Pro_Left Swipe_new_Left Swipe_new', 'WIN_20180907_16_08_46_Pro_Thumbs Down_new', 'WIN_20180907_16_08_56_Pro_Thumbs Up_new', 'WIN_20180907_16_10_07_Pro_Thumbs Down_new', 'WIN_20180907_16_11_00_Pro_Thumbs Down_new', 'WIN_20180907_16_11_06_Pro_Stop Gesture_new', 'WIN_20180907_16_11_36_Pro_Right Swipe_new', 'WIN_20180907_16_12_09_Pro_Stop Gesture_new', 'WIN_20180907_16_12_16_Pro_Thumbs Down_new', 'WIN_20180907_16_12_20_Pro_Right Swipe_new', 'WIN_20180907_16_12_40_Pro_Thumbs Down_new', 'WIN_20180907_16_12_53_Pro_Left Swipe_new_Left Swipe_new', 'WIN_20180907_16_13_12_Pro_Stop Gesture_new', 'WIN_20180907_16_13_35_Pro_Thumbs Up_new', 'WIN_20180907_16_13_56_Pro_Left Swipe_new_Left Swipe_new', 'WIN_20180907_16_14_43_Pro_Thumbs Down_new', 'WIN_20180907_16_14_53_Pro_Stop Gesture_new', 'WIN_20180907_16_14_58_Pro_Left Swipe_new_Left Swipe_new', 'WIN_20180907_16_15_15_Pro_Thumbs Down_new', 'WIN_20180907_16_15_33_Pro_Thumbs Up_new', 'WIN_20180907_16_15_44_Pro_Thumbs Down_new', 'WIN_20180907_16_16_27_Pro_Left Swipe_new_Left Swipe_new', 'WIN_20180907_16_17_00_Pro_Right Swipe_new', 'WIN_20180907_16_17_11_Pro_Left Swipe_new_Left Swipe_new', 'WIN_20180907_16_18_18_Pro_Right Swipe_new', 'WIN_20180907_16_18_43_Pro_Thumbs Up_new', 'WIN_20180907_16_18_59_Pro_Stop Gesture_new', 'WIN_20180907_16_19_10_Pro_Left Swipe_new_Left Swipe_new', 'WIN_20180907_16_19_27_Pro_Stop Gesture_new', 'WIN_20180907_16_19_31_Pro_Right Swipe_new', 'WIN_20180907_16_20_32_Pro_Thumbs Down_new', 'WIN_20180907_16_20_37_Pro_Thumbs Up_new', 'WIN_20180907_16_21_11_Pro_Stop Gesture_new', 'WIN_20180907_16_21_23_Pro_Right Swipe_new', 'WIN_20180907_16_21_32_Pro_Thumbs Down_new', 'WIN_20180907_16_22_00_Pro_Thumbs Up_new', 'WIN_20180907_16_22_03_Pro_Left Swipe_new_Left Swipe_new', 'WIN_20180907_16_22_23_Pro_Right Swipe_new', 'WIN_20180907_16_22_27_Pro_Thumbs Down_new', 'WIN_20180907_16_22_52_Pro_Thumbs Up_new', 'WIN_20180907_16_23_55_Pro_Right Swipe_new', 'WIN_20180907_16_24_14_Pro_Thumbs Up_new', 'WIN_20180907_16_24_20_Pro_Thumbs Down_new', 'WIN_20180907_16_24_28_Pro_Stop Gesture_new', 'WIN_20180907_16_25_05_Pro_Stop Gesture_new', 'WIN_20180907_16_25_10_Pro_Thumbs Up_new', 'WIN_20180907_16_25_19_Pro_Right Swipe_new', 'WIN_20180907_16_25_22_Pro_Thumbs Down_new', 'WIN_20180907_16_25_47_Pro_Left Swipe_new_Left Swipe_new', 'WIN_20180907_16_25_52_Pro_Thumbs Down_new', 'WIN_20180907_16_26_02_Pro_Thumbs Up_new', 'WIN_20180907_16_27_05_Pro_Right Swipe_new', 'WIN_20180907_16_27_09_Pro_Thumbs Up_new', 'WIN_20180907_16_27_36_Pro_Stop Gesture_new', 'WIN_20180907_16_27_42_Pro_Right Swipe_new', 'WIN_20180907_16_28_15_Pro_Stop Gesture_new', 'WIN_20180907_16_28_20_Pro_Thumbs Up_new', 'WIN_20180907_16_28_49_Pro_Right Swipe_new', 'WIN_20180907_16_29_13_Pro_Stop Gesture_new', 'WIN_20180907_16_29_23_Pro_Left Swipe_new_Left Swipe_new', 'WIN_20180907_16_29_34_Pro_Right Swipe_new', 'WIN_20180907_16_30_13_Pro_Right Swipe_new', 'WIN_20180907_16_30_24_Pro_Stop Gesture_new', 'WIN_20180907_16_30_30_Pro_Thumbs Up_new', 'WIN_20180907_16_31_12_Pro_Thumbs Down_new', 'WIN_20180907_16_31_45_Pro_Thumbs Up_new', 'WIN_20180907_16_32_11_Pro_Stop Gesture_new', 'WIN_20180907_16_32_17_Pro_Left Swipe_new_Left Swipe_new', 'WIN_20180907_16_33_15_Pro_Left Swipe_new_Left Swipe_new', 'WIN_20180907_16_33_26_Pro_Thumbs Up_new', 'WIN_20180907_16_33_33_Pro_Thumbs Down_new', 'WIN_20180907_16_33_59_Pro_Right Swipe_new', 'WIN_20180907_16_35_18_Pro_Thumbs Up_new', 'WIN_20180907_16_35_35_Pro_Left Swipe_new_Left Swipe_new', 'WIN_20180907_16_35_51_Pro_Right Swipe_new', 'WIN_20180907_16_36_14_Pro_Thumbs Up_new', 'WIN_20180907_16_37_03_Pro_Right Swipe_new', 'WIN_20180907_16_37_22_Pro_Thumbs Up_new', 'WIN_20180907_16_37_37_Pro_Left Swipe_new_Left Swipe_new', 'WIN_20180907_16_38_23_Pro_Thumbs Up_new', 'WIN_20180907_16_38_29_Pro_Left Swipe_new_Left Swipe_new', 'WIN_20180907_16_39_19_Pro_Left Swipe_new_Left Swipe_new', 'WIN_20180907_16_40_19_Pro_Left Swipe_new_Left Swipe_new', 'WIN_20180907_16_40_47_Pro_Thumbs Down_new', 'WIN_20180907_16_40_59_Pro_Left Swipe_new_Left Swipe_new', 'WIN_20180907_16_41_09_Pro_Thumbs Up_new', 'WIN_20180907_16_41_13_Pro_Thumbs Down_new', 'WIN_20180907_16_41_45_Pro_Right Swipe_new', 'WIN_20180907_16_42_05_Pro_Thumbs Up_new', 'WIN_20180907_16_42_19_Pro_Left Swipe_new_Left Swipe_new', 'WIN_20180907_16_42_55_Pro_Thumbs Up_new', 'WIN_20180907_16_43_19_Pro_Thumbs Down_new', 'WIN_20180907_16_43_39_Pro_Thumbs Up_new', 'WIN_20180907_16_49_05_Pro_Left Swipe_new_Left Swipe_new', 'WIN_20180907_16_50_16_Pro_Right Swipe_new', 'WIN_20180907_16_52_18_Pro_Stop Gesture_new', 'WIN_20180907_16_53_36_Pro_Thumbs Down_new', 'WIN_20180907_16_54_21_Pro_Thumbs Down_new', 'WIN_20180907_16_56_18_Pro_Stop Gesture_new', 'WIN_20180907_16_57_43_Pro_Stop Gesture_new', 'WIN_20180907_16_58_34_Pro_Right Swipe_new', 'WIN_20180907_17_03_16_Pro_Right Swipe_new', 'WIN_20180925_17_08_43_Pro_Left_Swipe_new', 'WIN_20180925_17_17_26_Pro_Right_Swipe_new', 'WIN_20180925_17_18_07_Pro_Thumbs_Up_new', 'WIN_20180925_17_18_25_Pro_Right_Swipe_new', 'WIN_20180925_17_18_28_Pro_Left_Swipe_new', 'WIN_20180925_17_18_56_Pro_Left_Swipe_new', 'WIN_20180925_17_19_16_Pro_Thumbs_Up_new', 'WIN_20180925_17_19_19_Pro_Right_Swipe_new', 'WIN_20180925_17_19_51_Pro_Left_Swipe_new', 'WIN_20180925_17_20_14_Pro_Left_Swipe_new', 'WIN_20180925_17_20_16_Pro_Thumbs_Up_new', 'WIN_20180925_17_20_22_Pro_Right_Swipe_new', 'WIN_20180925_17_20_53_Pro_Thumbs_Up_new', 'WIN_20180925_17_20_55_Pro_Right_Swipe_new', 'WIN_20180925_17_21_28_Pro_Left_Swipe_new', 'WIN_20180925_17_22_11_Pro_Thumbs_Up_new', 'WIN_20180925_17_22_32_Pro_Right_Swipe_new', 'WIN_20180925_17_22_42_Pro_Thumbs_Up_new', 'WIN_20180925_17_22_55_Pro_Left_Swipe_new', 'WIN_20180925_17_23_34_Pro_Right_Swipe_new', 'WIN_20180925_17_23_46_Pro_Thumbs_Up_new', 'WIN_20180925_17_24_26_Pro_Right_Swipe_new', 'WIN_20180925_17_24_49_Pro_Left_Swipe_new', 'WIN_20180925_17_25_14_Pro_Thumbs_Up_new', 'WIN_20180925_17_26_25_Pro_Left_Swipe_new', 'WIN_20180925_17_26_34_Pro_Right_Swipe_new', 'WIN_20180925_17_26_37_Pro_Thumbs_Up_new', 'WIN_20180925_17_26_51_Pro_Left_Swipe_new', 'WIN_20180925_17_26_58_Pro_Right_Swipe_new', 'WIN_20180925_17_27_22_Pro_Thumbs_Up_new', 'WIN_20180925_17_27_40_Pro_Left_Swipe_new', 'WIN_20180925_17_28_04_Pro_Right_Swipe_new', 'WIN_20180925_17_28_28_Pro_Thumbs_Up_new', 'WIN_20180925_17_28_48_Pro_Stop_new', 'WIN_20180925_17_28_57_Pro_Right_Swipe_new', 'WIN_20180925_17_29_33_Pro_Stop_new', 'WIN_20180925_17_29_52_Pro_Left_Swipe_new', 'WIN_20180925_17_30_21_Pro_Right_Swipe_new', 'WIN_20180925_17_30_26_Pro_Thumbs_Up_new', 'WIN_20180925_17_31_02_Pro_Right_Swipe_new', 'WIN_20180925_17_31_26_Pro_Thumbs_Up_new', 'WIN_20180925_17_31_48_Pro_Stop_new', 'WIN_20180925_17_32_14_Pro_Right_Swipe_new', 'WIN_20180925_17_32_38_Pro_Right_Swipe_new', 'WIN_20180925_17_32_52_Pro_Thumbs_Up_new', 'WIN_20180925_17_33_08_Pro_Left_Swipe_new', 'WIN_20180925_17_34_05_Pro_Thumbs_Down_new', 'WIN_20180925_17_34_40_Pro_Right_Swipe_new', 'WIN_20180925_17_35_12_Pro_Stop_new', 'WIN_20180925_17_35_24_Pro_Right_Swipe_new', 'WIN_20180925_17_35_39_Pro_Left_Swipe_new', 'WIN_20180925_17_35_57_Pro_Stop_new', 'WIN_20180925_17_36_07_Pro_Right_Swipe_new', 'WIN_20180925_17_36_28_Pro_Thumbs_Down_new', 'WIN_20180925_17_36_58_Pro_Right_Swipe_new', 'WIN_20180925_17_37_08_Pro_Left_Swipe_new', 'WIN_20180925_17_37_12_Pro_Thumbs_Down_new', 'WIN_20180925_17_37_14_Pro_Stop_new', 'WIN_20180925_17_37_17_Pro_Thumbs_Up_new', 'WIN_20180925_17_37_21_Pro_Right_Swipe_new', 'WIN_20180925_17_37_30_Pro_Left_Swipe_new', 'WIN_20180925_17_37_42_Pro_Stop_new', 'WIN_20180925_17_37_54_Pro_Thumbs_Down_new', 'WIN_20180925_17_38_16_Pro_Stop_new', 'WIN_20180925_17_38_50_Pro_Stop_new', 'WIN_20180925_17_39_11_Pro_Stop_new', 'WIN_20180925_17_39_25_Pro_Left_Swipe_new', 'WIN_20180925_17_39_48_Pro_Thumbs_Down_new', 'WIN_20180925_17_40_22_Pro_Thumbs_Down_new', 'WIN_20180925_17_40_41_Pro_Left_Swipe_new', 'WIN_20180925_17_41_24_Pro_Thumbs_Up_new', 'WIN_20180925_17_41_54_Pro_Thumbs_Up_new', 'WIN_20180925_17_42_12_Pro_Right_Swipe_new', 'WIN_20180925_17_42_31_Pro_Thumbs_Down_new', 'WIN_20180925_17_42_50_Pro_Thumbs_Down_new', 'WIN_20180925_17_42_57_Pro_Right_Swipe_new', 'WIN_20180925_17_42_57_Pro_Stop_new', 'WIN_20180925_17_43_11_Pro_Thumbs_Up_new', 'WIN_20180925_17_43_32_Pro_Left_Swipe_new', 'WIN_20180925_17_43_33_Pro_Thumbs_Down_new', 'WIN_20180925_17_43_57_Pro_Left_Swipe_new', 'WIN_20180925_17_43_57_Pro_Stop_new', 'WIN_20180925_17_44_12_Pro_Thumbs_Up_new', 'WIN_20180925_17_44_25_Pro_Stop_new', 'WIN_20180925_17_44_26_Pro_Right_Swipe_new', 'WIN_20180925_17_44_57_Pro_Thumbs_Down_new', 'WIN_20180925_17_45_23_Pro_Thumbs_Down_new', 'WIN_20180925_17_45_31_Pro_Stop_new', 'WIN_20180925_17_46_05_Pro_Stop_new', 'WIN_20180925_17_46_09_Pro_Right_Swipe_new', 'WIN_20180925_17_46_20_Pro_Left_Swipe_new', 'WIN_20180925_17_46_33_Pro_Thumbs_Down_new', 'WIN_20180925_17_46_39_Pro_Left_Swipe_new', 'WIN_20180925_17_46_48_Pro_Right_Swipe_new', 'WIN_20180925_17_46_49_Pro_Left_Swipe_new', 'WIN_20180925_17_47_06_Pro_Thumbs_Down_new', 'WIN_20180925_17_47_19_Pro_Right_Swipe_new', 'WIN_20180925_17_47_32_Pro_Thumbs_Down_new', 'WIN_20180925_17_47_40_Pro_Thumbs_Down_new', 'WIN_20180925_17_47_47_Pro_Right_Swipe_new', 'WIN_20180925_17_48_24_Pro_Left_Swipe_new', 'WIN_20180925_17_48_24_Pro_Stop_new', 'WIN_20180925_17_48_42_Pro_Thumbs_Up_new', 'WIN_20180925_17_48_48_Pro_Right_Swipe_new', 'WIN_20180925_17_48_59_Pro_Stop_new', 'WIN_20180925_17_49_07_Pro_Left_Swipe_new', 'WIN_20180925_17_49_11_Pro_Thumbs_Down_new', 'WIN_20180925_17_49_29_Pro_Left_Swipe_new', 'WIN_20180925_17_49_45_Pro_Right_Swipe_new', 'WIN_20180925_17_50_04_Pro_Thumbs_Up_new', 'WIN_20180925_17_50_07_Pro_Thumbs_Down_new', 'WIN_20180925_17_50_17_Pro_Thumbs_Down_new', 'WIN_20180925_17_50_31_Pro_Right_Swipe_new', 'WIN_20180925_17_50_43_Pro_Stop_new', 'WIN_20180925_17_50_44_Pro_Left_Swipe_new', 'WIN_20180925_17_50_59_Pro_Right_Swipe_new', 'WIN_20180925_17_51_17_Pro_Thumbs_Up_new', 'WIN_20180925_17_51_23_Pro_Thumbs_Down_new', 'WIN_20180925_17_51_26_Pro_Left_Swipe_new', 'WIN_20180925_17_51_29_Pro_Stop_new', 'WIN_20180925_17_51_49_Pro_Left_Swipe_new', 'WIN_20180925_17_51_52_Pro_Right_Swipe_new', 'WIN_20180925_17_52_20_Pro_Left_Swipe_new', 'WIN_20180925_17_52_46_Pro_Right_Swipe_new', 'WIN_20180925_17_52_58_Pro_Left_Swipe_new', 'WIN_20180925_17_53_03_Pro_Stop_new', 'WIN_20180925_17_53_35_Pro_Stop_new', 'WIN_20180925_17_54_25_Pro_Left_Swipe_new', 'WIN_20180925_17_55_12_Pro_Left_Swipe_new', 'WIN_20180925_17_55_36_Pro_Right_Swipe_new', 'WIN_20180925_17_55_45_Pro_Thumbs_Down_new', 'WIN_20180925_17_55_57_Pro_Left_Swipe_new', 'WIN_20180925_17_56_00_Pro_Right_Swipe_new', 'WIN_20180925_17_56_11_Pro_Thumbs_Up_new', 'WIN_20180925_17_56_48_Pro_Stop_new', 'WIN_20180925_17_57_06_Pro_Thumbs_Down_new', 'WIN_20180925_17_57_12_Pro_Thumbs_Up_new', 'WIN_20180925_17_57_22_Pro_Stop_new', 'WIN_20180925_17_57_31_Pro_Stop_new', 'WIN_20180925_17_57_36_Pro_Left_Swipe_new', 'WIN_20180925_17_57_52_Pro_Thumbs_Down_new', 'WIN_20180925_17_57_58_Pro_Right_Swipe_new', 'WIN_20180925_17_58_10_Pro_Stop_new', 'WIN_20180925_17_58_21_Pro_Right_Swipe_new', 'WIN_20180925_18_00_08_Pro_Stop_new', 'WIN_20180925_18_00_23_Pro_Right_Swipe_new', 'WIN_20180925_18_01_05_Pro_Right_Swipe_new', 'WIN_20180925_18_01_26_Pro_Right_Swipe_new', 'WIN_20180925_18_01_30_Pro_Stop_new', 'WIN_20180925_18_01_52_Pro_Stop_new', 'WIN_20180925_18_01_57_Pro_Left_Swipe_new', 'WIN_20180925_18_02_17_Pro_Left_Swipe_new', 'WIN_20180925_18_02_41_Pro_Right_Swipe_new', 'WIN_20180925_18_02_52_Pro_Stop_new', 'WIN_20180925_18_02_58_Pro_Thumbs_Down_new', 'WIN_20180925_18_03_22_Pro_Thumbs_Down_new', 'WIN_20180925_18_04_13_Pro_Thumbs_Down_new', 'WIN_20180925_18_05_04_Pro_Thumbs_Down_new', 'WIN_20180925_18_05_30_Pro_Thumbs_Up_new', 'WIN_20180925_18_05_57_Pro_Right_Swipe_new', 'WIN_20180925_18_06_22_Pro_Left_Swipe_new', 'WIN_20180925_18_06_23_Pro_Thumbs_Down_new', 'WIN_20180925_18_06_24_Pro_Stop_new', 'WIN_20180925_18_07_19_Pro_Left_Swipe_new', 'WIN_20180925_18_07_19_Pro_Thumbs_Up_new', 'WIN_20180925_18_07_47_Pro_Left_Swipe_new', 'WIN_20180925_18_08_08_Pro_Thumbs_Up_new', 'WIN_20180925_18_08_31_Pro_Thumbs_Down_new', 'WIN_20180925_18_11_52_Pro_Right_Swipe_new', 'WIN_20180925_18_12_58_Pro_Right_Swipe_new', 'WIN_20180925_18_13_15_Pro_Thumbs_Down_new', 'WIN_20180925_18_13_58_Pro_Thumbs_Down_new', 'WIN_20180925_18_14_35_Pro_Right_Swipe_new', 'WIN_20180925_18_14_47_Pro_Thumbs_Down_new', 'WIN_20180925_18_15_50_Pro_Thumbs_Down_new', 'WIN_20180925_18_16_51_Pro_Right_Swipe_new', 'WIN_20180925_18_16_56_Pro_Thumbs_Down_new', 'WIN_20180925_18_17_43_Pro_Right_Swipe_new', 'WIN_20180925_18_20_19_Pro_Thumbs_Down_new', 'WIN_20180925_18_21_50_Pro_Thumbs_Down_new', 'WIN_20180925_18_23_57_Pro_Thumbs_Down_new', 'WIN_20180925_18_24_34_Pro_Thumbs_Down_new', 'WIN_20180925_18_26_40_Pro_Thumbs_Down_new', 'WIN_20180925_18_28_41_Pro_Thumbs_Down_new', 'WIN_20180926_16_35_06_Pro_Thumbs_Down_new', 'WIN_20180926_16_35_34_Pro_Stop_new', 'WIN_20180926_16_37_46_Pro_Stop_new', 'WIN_20180926_16_38_09_Pro_Thumbs_Up_new', 'WIN_20180926_16_38_18_Pro_Thumbs_Down_new', 'WIN_20180926_16_39_19_Pro_Stop_new', 'WIN_20180926_16_39_35_Pro_Stop_new', 'WIN_20180926_16_39_45_Pro_Right_Swipe_new', 'WIN_20180926_16_39_58_Pro_Thumbs_Down_new', 'WIN_20180926_16_40_01_Pro_Thumbs_Up_new', 'WIN_20180926_16_40_38_Pro_Right_Swipe_new', 'WIN_20180926_16_40_53_Pro_Thumbs_Down_new', 'WIN_20180926_16_41_01_Pro_Thumbs_Up_new', 'WIN_20180926_16_41_11_Pro_Thumbs_Up_new', 'WIN_20180926_16_41_27_Pro_Right_Swipe_new', 'WIN_20180926_16_42_06_Pro_Right_Swipe_new', 'WIN_20180926_16_42_15_Pro_Thumbs_Up_new', 'WIN_20180926_16_44_06_Pro_Left_Swipe_new', 'WIN_20180926_16_44_37_Pro_Left_Swipe_new', 'WIN_20180926_16_45_10_Pro_Thumbs_Up_new', 'WIN_20180926_16_45_15_Pro_Left_Swipe_new', 'WIN_20180926_16_45_45_Pro_Thumbs_Down_new', 'WIN_20180926_16_46_07_Pro_Right_Swipe_new', 'WIN_20180926_16_46_40_Pro_Left_Swipe_new', 'WIN_20180926_16_47_00_Pro_Right_Swipe_new', 'WIN_20180926_16_47_06_Pro_Thumbs_Up_new', 'WIN_20180926_16_48_32_Pro_Thumbs_Up_new', 'WIN_20180926_16_48_34_Pro_Left_Swipe_new', 'WIN_20180926_16_48_35_Pro_Thumbs_Down_new', 'WIN_20180926_16_49_15_Pro_Left_Swipe_new', 'WIN_20180926_16_49_22_Pro_Thumbs_Down_new', 'WIN_20180926_16_49_23_Pro_Thumbs_Up_new', 'WIN_20180926_16_49_40_Pro_Stop_new', 'WIN_20180926_16_49_49_Pro_Thumbs_Up_new', 'WIN_20180926_16_49_52_Pro_Left_Swipe_new', 'WIN_20180926_16_49_59_Pro_Thumbs_Up_new', 'WIN_20180926_16_50_21_Pro_Left_Swipe_new', 'WIN_20180926_16_50_23_Pro_Stop_new', 'WIN_20180926_16_50_27_Pro_Thumbs_Up_new', 'WIN_20180926_16_50_28_Pro_Right_Swipe_new', 'WIN_20180926_16_50_32_Pro_Stop_new', 'WIN_20180926_16_51_04_Pro_Stop_new', 'WIN_20180926_16_51_21_Pro_Thumbs_Down_new', 'WIN_20180926_16_51_37_Pro_Right_Swipe_new', 'WIN_20180926_16_51_55_Pro_Left_Swipe_new', 'WIN_20180926_16_52_10_Pro_Thumbs_Up_new', 'WIN_20180926_16_52_36_Pro_Stop_new', 'WIN_20180926_16_52_38_Pro_Left_Swipe_new', 'WIN_20180926_16_52_43_Pro_Thumbs_Down_new', 'WIN_20180926_16_52_54_Pro_Thumbs_Down_new', 'WIN_20180926_16_53_28_Pro_Thumbs_Up_new', 'WIN_20180926_16_53_30_Pro_Stop_new', 'WIN_20180926_16_54_07_Pro_Stop_new', 'WIN_20180926_16_54_08_Pro_Right_Swipe_new', 'WIN_20180926_16_54_30_Pro_Left_Swipe_new', 'WIN_20180926_16_54_48_Pro_Left_Swipe_new', 'WIN_20180926_16_54_53_Pro_Thumbs_Down_new', 'WIN_20180926_16_55_03_Pro_Stop_new', 'WIN_20180926_16_55_16_Pro_Right_Swipe_new', 'WIN_20180926_16_55_17_Pro_Thumbs_Down_new', 'WIN_20180926_16_55_27_Pro_Thumbs_Up_new', 'WIN_20180926_16_55_41_Pro_Left_Swipe_new', 'WIN_20180926_16_55_47_Pro_Right_Swipe_new', 'WIN_20180926_16_56_12_Pro_Stop_new', 'WIN_20180926_16_56_13_Pro_Thumbs_Up_new', 'WIN_20180926_16_56_46_Pro_Right_Swipe_new', 'WIN_20180926_16_56_51_Pro_Thumbs_Up_new', 'WIN_20180926_16_56_54_Pro_Stop_new', 'WIN_20180926_16_57_19_Pro_Right_Swipe_new', 'WIN_20180926_16_57_26_Pro_Left_Swipe_new', 'WIN_20180926_16_57_34_Pro_Left_Swipe_new', 'WIN_20180926_16_57_51_Pro_Thumbs_Up_new', 'WIN_20180926_16_58_07_Pro_Thumbs_Up_new', 'WIN_20180926_16_58_12_Pro_Left_Swipe_new', 'WIN_20180926_16_58_25_Pro_Stop_new', 'WIN_20180926_16_58_27_Pro_Right_Swipe_new', 'WIN_20180926_16_59_03_Pro_Thumbs_Down_new', 'WIN_20180926_16_59_06_Pro_Left_Swipe_new', 'WIN_20180926_16_59_12_Pro_Stop_new', 'WIN_20180926_16_59_27_Pro_Thumbs_Up_new', 'WIN_20180926_16_59_44_Pro_Thumbs_Up_new', 'WIN_20180926_16_59_48_Pro_Stop_new', 'WIN_20180926_16_59_55_Pro_Thumbs_Down_new', 'WIN_20180926_17_00_22_Pro_Stop_new', 'WIN_20180926_17_00_32_Pro_Left_Swipe_new', 'WIN_20180926_17_00_44_Pro_Thumbs_Down_new', 'WIN_20180926_17_00_47_Pro_Stop_new', 'WIN_20180926_17_01_07_Pro_Right_Swipe_new', 'WIN_20180926_17_01_07_Pro_Thumbs_Up_new', 'WIN_20180926_17_01_50_Pro_Stop_new', 'WIN_20180926_17_02_05_Pro_Thumbs_Down_new', 'WIN_20180926_17_02_27_Pro_Thumbs_Up_new', 'WIN_20180926_17_02_35_Pro_Right_Swipe_new', 'WIN_20180926_17_03_21_Pro_Left_Swipe_new', 'WIN_20180926_17_03_21_Pro_Stop_new', 'WIN_20180926_17_03_37_Pro_Thumbs_Down_new', 'WIN_20180926_17_03_38_Pro_Thumbs_Up_new', 'WIN_20180926_17_04_21_Pro_Thumbs_Up_new', 'WIN_20180926_17_04_58_Pro_Right_Swipe_new', 'WIN_20180926_17_05_08_Pro_Left_Swipe_new', 'WIN_20180926_17_05_27_Pro_Left_Swipe_new', 'WIN_20180926_17_05_32_Pro_Stop_new', 'WIN_20180926_17_05_38_Pro_Thumbs_Up_new', 'WIN_20180926_17_05_54_Pro_Right_Swipe_new', 'WIN_20180926_17_06_01_Pro_Stop_new', 'WIN_20180926_17_06_07_Pro_Thumbs_Up_new', 'WIN_20180926_17_06_12_Pro_Left_Swipe_new', 'WIN_20180926_17_06_24_Pro_Left_Swipe_new', 'WIN_20180926_17_06_26_Pro_Stop_new', 'WIN_20180926_17_06_30_Pro_Thumbs_Down_new', 'WIN_20180926_17_07_02_Pro_Stop_new', 'WIN_20180926_17_07_09_Pro_Left_Swipe_new', 'WIN_20180926_17_07_29_Pro_Stop_new', 'WIN_20180926_17_07_50_Pro_Right_Swipe_new', 'WIN_20180926_17_07_57_Pro_Thumbs_Up_new', 'WIN_20180926_17_08_38_Pro_Thumbs_Down_new', 'WIN_20180926_17_10_00_Pro_Thumbs_Up_new', 'WIN_20180926_17_10_21_Pro_Left_Swipe_new', 'WIN_20180926_17_10_30_Pro_Stop_new', 'WIN_20180926_17_10_34_Pro_Right_Swipe_new', 'WIN_20180926_17_10_43_Pro_Thumbs_Up_new', 'WIN_20180926_17_10_46_Pro_Stop_new', 'WIN_20180926_17_11_11_Pro_Left_Swipe_new', 'WIN_20180926_17_11_17_Pro_Stop_new', 'WIN_20180926_17_11_24_Pro_Right_Swipe_new', 'WIN_20180926_17_11_36_Pro_Thumbs_Down_new', 'WIN_20180926_17_11_41_Pro_Left_Swipe_new', 'WIN_20180926_17_12_26_Pro_Stop_new', 'WIN_20180926_17_12_26_Pro_Thumbs_Up_new', 'WIN_20180926_17_12_29_Pro_Thumbs_Down_new', 'WIN_20180926_17_12_37_Pro_Left_Swipe_new', 'WIN_20180926_17_13_01_Pro_Thumbs_Up_new', 'WIN_20180926_17_13_07_Pro_Left_Swipe_new', 'WIN_20180926_17_13_13_Pro_Right_Swipe_new', 'WIN_20180926_17_13_29_Pro_Thumbs_Up_new', 'WIN_20180926_17_13_32_Pro_Left_Swipe_new', 'WIN_20180926_17_13_39_Pro_Right_Swipe_new', 'WIN_20180926_17_13_44_Pro_Stop_new', 'WIN_20180926_17_13_59_Pro_Thumbs_Down_new', 'WIN_20180926_17_14_32_Pro_Left_Swipe_new', 'WIN_20180926_17_14_56_Pro_Right_Swipe_new', 'WIN_20180926_17_15_10_Pro_Stop_new', 'WIN_20180926_17_15_12_Pro_Left_Swipe_new', 'WIN_20180926_17_15_18_Pro_Thumbs_Up_new', 'WIN_20180926_17_15_56_Pro_Right_Swipe_new', 'WIN_20180926_17_16_10_Pro_Left_Swipe_new', 'WIN_20180926_17_16_17_Pro_Thumbs_Up_new', 'WIN_20180926_17_16_20_Pro_Thumbs_Down_new', 'WIN_20180926_17_16_29_Pro_Left_Swipe_new', 'WIN_20180926_17_17_07_Pro_Thumbs_Down_new', 'WIN_20180926_17_17_18_Pro_Thumbs_Down_new', 'WIN_20180926_17_17_23_Pro_Thumbs_Up_new', 'WIN_20180926_17_17_35_Pro_Left_Swipe_new', 'WIN_20180926_17_18_02_Pro_Thumbs_Up_new', 'WIN_20180926_17_18_39_Pro_Thumbs_Down_new', 'WIN_20180926_17_18_43_Pro_Thumbs_Up_new', 'WIN_20180926_17_19_06_Pro_Thumbs_Down_new', 'WIN_20180926_17_19_12_Pro_Left_Swipe_new', 'WIN_20180926_17_19_13_Pro_Stop_new', 'WIN_20180926_17_19_35_Pro_Right_Swipe_new', 'WIN_20180926_17_19_35_Pro_Stop_new', 'WIN_20180926_17_19_48_Pro_Left_Swipe_new', 'WIN_20180926_17_19_50_Pro_Thumbs_Down_new', 'WIN_20180926_17_20_04_Pro_Right_Swipe_new', 'WIN_20180926_17_20_19_Pro_Left_Swipe_new', 'WIN_20180926_17_20_22_Pro_Thumbs_Down_new', 'WIN_20180926_17_20_39_Pro_Right_Swipe_new', 'WIN_20180926_17_20_41_Pro_Stop_new', 'WIN_20180926_17_20_43_Pro_Left_Swipe_new', 'WIN_20180926_17_20_47_Pro_Thumbs_Up_new', 'WIN_20180926_17_21_16_Pro_Left_Swipe_new', 'WIN_20180926_17_21_18_Pro_Thumbs_Up_new', 'WIN_20180926_17_21_20_Pro_Right_Swipe_new', 'WIN_20180926_17_21_24_Pro_Thumbs_Down_new', 'WIN_20180926_17_21_29_Pro_Stop_new', 'WIN_20180926_17_21_38_Pro_Thumbs_Up_new', 'WIN_20180926_17_21_49_Pro_Stop_new', 'WIN_20180926_17_22_08_Pro_Thumbs_Down_new', 'WIN_20180926_17_22_16_Pro_Thumbs_Up_new', 'WIN_20180926_17_22_23_Pro_Stop_new', 'WIN_20180926_17_22_49_Pro_Right_Swipe_new', 'WIN_20180926_17_22_53_Pro_Thumbs_Up_new', 'WIN_20180926_17_22_54_Pro_Left_Swipe_new', 'WIN_20180926_17_22_54_Pro_Stop_new', 'WIN_20180926_17_23_23_Pro_Right_Swipe_new', 'WIN_20180926_17_23_26_Pro_Stop_new', 'WIN_20180926_17_23_38_Pro_Thumbs_Down_new', 'WIN_20180926_17_23_39_Pro_Left_Swipe_new', 'WIN_20180926_17_23_43_Pro_Thumbs_Up_new', 'WIN_20180926_17_24_14_Pro_Stop_new', 'WIN_20180926_17_24_18_Pro_Left_Swipe_new', 'WIN_20180926_17_24_33_Pro_Thumbs_Up_new', 'WIN_20180926_17_24_54_Pro_Left_Swipe_new', 'WIN_20180926_17_24_54_Pro_Thumbs_Down_new', 'WIN_20180926_17_24_55_Pro_Stop_new', 'WIN_20180926_17_24_58_Pro_Right_Swipe_new', 'WIN_20180926_17_25_18_Pro_Stop_new', 'WIN_20180926_17_25_30_Pro_Right_Swipe_new', 'WIN_20180926_17_25_32_Pro_Left_Swipe_new', 'WIN_20180926_17_26_13_Pro_Left_Swipe_new', 'WIN_20180926_17_26_41_Pro_Right_Swipe_new', 'WIN_20180926_17_27_29_Pro_Stop_new', 'WIN_20180926_17_27_33_Pro_Right_Swipe_new', 'WIN_20180926_17_27_34_Pro_Thumbs_Down_new', 'WIN_20180926_17_27_40_Pro_Left_Swipe_new', 'WIN_20180926_17_27_48_Pro_Thumbs_Up_new', 'WIN_20180926_17_28_09_Pro_Thumbs_Down_new', 'WIN_20180926_17_28_21_Pro_Right_Swipe_new', 'WIN_20180926_17_28_28_Pro_Stop_new', 'WIN_20180926_17_28_47_Pro_Left_Swipe_new', 'WIN_20180926_17_28_52_Pro_Right_Swipe_new', 'WIN_20180926_17_29_01_Pro_Stop_new', 'WIN_20180926_17_29_23_Pro_Stop_new', 'WIN_20180926_17_29_33_Pro_Left_Swipe_new', 'WIN_20180926_17_29_37_Pro_Thumbs_Up_new', 'WIN_20180926_17_29_54_Pro_Thumbs_Down_new', 'WIN_20180926_17_30_12_Pro_Thumbs_Up_new', 'WIN_20180926_17_30_14_Pro_Left_Swipe_new', 'WIN_20180926_17_30_24_Pro_Right_Swipe_new', 'WIN_20180926_17_30_47_Pro_Thumbs_Up_new', 'WIN_20180926_17_30_50_Pro_Stop_new', 'WIN_20180926_17_30_54_Pro_Right_Swipe_new', 'WIN_20180926_17_31_23_Pro_Stop_new', 'WIN_20180926_17_31_45_Pro_Thumbs_Up_new', 'WIN_20180926_17_32_01_Pro_Thumbs_Down_new', 'WIN_20180926_17_32_19_Pro_Thumbs_Up_new', 'WIN_20180926_17_32_29_Pro_Thumbs_Down_new', 'WIN_20180926_17_32_42_Pro_Thumbs_Up_new', 'WIN_20180926_17_33_08_Pro_Thumbs_Down_new', 'WIN_20180926_17_33_09_Pro_Thumbs_Up_new', 'WIN_20180926_17_33_46_Pro_Left_Swipe_new', 'WIN_20180926_17_33_51_Pro_Thumbs_Down_new', 'WIN_20180926_17_33_51_Pro_Thumbs_Up_new', 'WIN_20180926_17_34_37_Pro_Stop_new', 'WIN_20180926_17_35_12_Pro_Thumbs_Down_new', 'WIN_20180926_17_35_17_Pro_Stop_new', 'WIN_20180926_17_35_35_Pro_Thumbs_Down_new', 'WIN_20180926_17_35_54_Pro_Thumbs_Up_new', 'WIN_20180926_17_36_08_Pro_Thumbs_Down_new', 'WIN_20180926_17_36_31_Pro_Thumbs_Down_new', 'WIN_20180926_17_36_34_Pro_Right_Swipe_new', 'WIN_20180926_17_37_02_Pro_Stop_new', 'WIN_20180926_17_37_45_Pro_Left_Swipe_new', 'WIN_20180926_17_38_09_Pro_Left_Swipe_new', 'WIN_20180926_17_38_25_Pro_Stop_new', 'WIN_20180926_17_38_34_Pro_Right_Swipe_new', 'WIN_20180926_17_39_05_Pro_Stop_new', 'WIN_20180926_17_39_18_Pro_Thumbs_Down_new', 'WIN_20180926_17_39_25_Pro_Thumbs_Up_new', 'WIN_20180926_17_39_43_Pro_Stop_new', 'WIN_20180926_17_39_48_Pro_Right_Swipe_new', 'WIN_20180926_17_39_59_Pro_Thumbs_Down_new', 'WIN_20180926_17_40_11_Pro_Stop_new', 'WIN_20180926_17_40_35_Pro_Left_Swipe_new', 'WIN_20180926_17_40_37_Pro_Stop_new', 'WIN_20180926_17_40_43_Pro_Thumbs_Down_new', 'WIN_20180926_17_40_52_Pro_Right_Swipe_new', 'WIN_20180926_17_40_53_Pro_Thumbs_Up_new', 'WIN_20180926_17_40_55_Pro_Thumbs_Down_new', 'WIN_20180926_17_41_15_Pro_Thumbs_Up_new', 'WIN_20180926_17_41_29_Pro_Right_Swipe_new', 'WIN_20180926_17_42_05_Pro_Thumbs_Down_new', 'WIN_20180926_17_42_11_Pro_Thumbs_Down_new', 'WIN_20180926_17_42_17_Pro_Thumbs_Up_new', 'WIN_20180926_17_42_21_Pro_Thumbs_Down_new', 'WIN_20180926_17_42_43_Pro_Right_Swipe_new', 'WIN_20180926_17_42_50_Pro_Thumbs_Down_new', 'WIN_20180926_17_43_07_Pro_Left_Swipe_new', 'WIN_20180926_17_43_17_Pro_Right_Swipe_new', 'WIN_20180926_17_43_30_Pro_Left_Swipe_new', 'WIN_20180926_17_43_30_Pro_Thumbs_Up_new', 'WIN_20180926_17_43_44_Pro_Thumbs_Down_new', 'WIN_20180926_17_43_57_Pro_Stop_new', 'WIN_20180926_17_44_20_Pro_Right_Swipe_new', 'WIN_20180926_17_44_30_Pro_Thumbs_Down_new', 'WIN_20180926_17_45_23_Pro_Thumbs_Down_new', 'WIN_20180926_17_45_57_Pro_Thumbs_Down_new', 'WIN_20180926_17_47_06_Pro_Stop_new', 'WIN_20180926_17_47_31_Pro_Thumbs_Down_new', 'WIN_20180926_17_48_06_Pro_Thumbs_Down_new', 'WIN_20180926_17_49_29_Pro_Stop_new', 'WIN_20180926_17_50_56_Pro_Stop_new', 'WIN_20180926_17_51_06_Pro_Stop_new', 'WIN_20180926_17_52_26_Pro_Stop_new', 'WIN_20180926_17_53_03_Pro_Right_Swipe_new', 'WIN_20180926_17_53_54_Pro_Right_Swipe_new', 'WIN_20180926_17_54_45_Pro_Right_Swipe_new', 'WIN_20180926_17_56_27_Pro_Right_Swipe_new', 'WIN_20180926_18_04_06_Pro_Thumbs_Down_new', 'WIN_20180926_18_05_07_Pro_Right_Swipe_new', 'WIN_20180926_18_05_21_Pro_Thumbs_Down_new', 'WIN_20180926_18_05_29_Pro_Thumbs_Down_new', 'WIN_20180926_18_05_38_Pro_Right_Swipe_new', 'WIN_20180926_18_07_05_Pro_Right_Swipe_new', 'WIN_20180926_18_09_50_Pro_Right_Swipe_new']\n"
          ]
        }
      ]
    },
    {
      "cell_type": "code",
      "source": [
        "import cv2\n",
        "\n",
        "# Load the image using cv2.imread()\n",
        "img = cv2.imread('/content/drive/MyDrive/Upgrad/Gesture Recognition/Unzipped data/Project_data/train/WIN_20180907_15_35_09_Pro_Right Swipe_new/WIN_20180907_15_35_09_Pro_00014.png')\n",
        "\n",
        "# Get the dimensions of the image\n",
        "height, width, channels = img.shape\n",
        "\n",
        "# Print the dimensions\n",
        "print(\"Image dimensions: {} x {} x {}\".format(width, height, channels))"
      ],
      "metadata": {
        "colab": {
          "base_uri": "https://localhost:8080/"
        },
        "id": "h66IZKqM37To",
        "outputId": "5057073c-2e88-4f1e-ac28-6e6490c28396"
      },
      "execution_count": 7,
      "outputs": [
        {
          "output_type": "stream",
          "name": "stdout",
          "text": [
            "Image dimensions: 360 x 360 x 3\n"
          ]
        }
      ]
    },
    {
      "cell_type": "code",
      "source": [
        "# Total images within the dataset\n",
        "# import glob\n",
        "\n",
        "# path = \"/content/drive/MyDrive/Upgrad/Gesture Recognition/Unzipped data/Project_data/train/*/*.png\"  # replace with the path to your directory\n",
        "# count = len(glob.glob(path))\n",
        "\n",
        "# print(\"Total number of images:\", count)"
      ],
      "metadata": {
        "id": "ss0F6P8BFFtC"
      },
      "execution_count": 8,
      "outputs": []
    },
    {
      "cell_type": "code",
      "source": [
        "# %%time\n",
        "\n",
        "# ## Code to indentify the different dimension present in the datset\n",
        "# from PIL import Image\n",
        "# import os\n",
        "# import glob\n",
        "\n",
        "# for folder in folder_names:\n",
        "#   counter = []\n",
        "#   directory = \"/content/drive/MyDrive/Upgrad/Gesture Recognition/Unzipped data/Project_data/train/\" + folder\n",
        "  \n",
        "  # count = len(glob.glob(directory))\n",
        "  # counter.append(count)\n",
        "  # print(directory)\n",
        "  # for filename in os.listdir(directory):\n",
        "  #     if filename.endswith(\".png\"):\n",
        "  #         file_path = os.path.join(directory, filename)\n",
        "  #         with Image.open(file_path) as img:\n",
        "  #             width, height = img.size\n",
        "  #             print(f\"{directory}: {width} x {height}\")\n",
        "              # image_dim.append(img.size)\n",
        "\n",
        "# print(counter)"
      ],
      "metadata": {
        "id": "FEuRa2vR4b_S"
      },
      "execution_count": 9,
      "outputs": []
    },
    {
      "cell_type": "markdown",
      "metadata": {
        "id": "AwRtWUA19yW6"
      },
      "source": [
        "## Generator\n",
        "This is one of the most important part of the code. The overall structure of the generator has been given. In the generator, you are going to preprocess the images as you have images of 2 different dimensions as well as create a batch of video frames. You have to experiment with `img_idx`, `y`,`z` and normalization such that you get high accuracy."
      ]
    },
    {
      "cell_type": "code",
      "execution_count": 78,
      "metadata": {
        "id": "8dbTm1rP9yW7"
      },
      "outputs": [],
      "source": [
        "def generator(source_path, folder_list, batch_size):\n",
        "    print( 'Source path = ', source_path, '; batch size =', batch_size)\n",
        "    img_idx = [i for i in range(3)] #create a list of image numbers you want to use for a particular video\n",
        "    while True:\n",
        "        t = np.random.permutation(folder_list)\n",
        "        num_batches = 31 # calculate the number of batches, (19890/(32*20)= 31 )\n",
        "        remaining_datapoints = len(folder_list) % batch_size\n",
        "        for batch in range(num_batches): # we iterate over the number of batches\n",
        "            batch_data = np.zeros((batch_size,20,160,120,3)) # x is the number of images you use for each video, (y,z) is the final size of the input images and 3 is the number of channels RGB\n",
        "            batch_labels = np.zeros((batch_size,5)) # batch_labels is the one hot representation of the output\n",
        "            for folder in range(batch_size): # iterate over the batch_size\n",
        "                imgs = os.listdir(source_path+'/'+ t[folder + (batch*batch_size)].split(';')[0]) # read all the images in the folder\n",
        "                for idx,item in enumerate(img_idx): #  Iterate iver the frames/images of a folder to read them in\n",
        "                    image = imageio.imread(source_path+'/'+ t[folder + (batch*batch_size)].strip().split(';')[0]+'/'+imgs[item]).astype(np.float32)\n",
        "                    \n",
        "                    #crop the images and resize them. Note that the images are of 2 different shape \n",
        "                    #and the conv3D will throw error if the inputs in a batch have different shapes\n",
        "                    # Set the new width and height\n",
        "                    new_width = 120\n",
        "                    new_height = 160\n",
        "\n",
        "                    # Resize the image\n",
        "                    resized_img = resize(image, (new_height, new_width))\n",
        "                    \n",
        "                    channel = resized_img[:, :, 0]\n",
        "                    channel_normalized = (channel - channel.min()) / (channel.max() - channel.min())\n",
        "                    batch_data[folder,idx,:,:,0] = channel_normalized\n",
        "\n",
        "                    channel = resized_img[:, :, 1]\n",
        "                    channel_normalized = (channel - channel.min()) / (channel.max() - channel.min())\n",
        "                    batch_data[folder,idx,:,:,1] = channel_normalized\n",
        "\n",
        "                    channel = resized_img[:, :, 2]\n",
        "                    channel_normalized = (channel - channel.min()) / (channel.max() - channel.min())\n",
        "                    batch_data[folder,idx,:,:,2] = channel_normalized\n",
        "                    \n",
        "                batch_labels[folder, int(t[folder + (batch*batch_size)].strip().split(';')[2])] = 1\n",
        "            yield batch_data, batch_labels #you yield the batch_data and the batch_labels, remember what does yield do\n",
        "\n",
        "        \n",
        "        # write the code for the remaining data points which are left after full batches\n",
        "\n",
        "        if remaining_datapoints > 0:\n",
        "            batch_data = np.zeros((remaining_datapoints,20,160,120,3))\n",
        "            batch_labels = np.zeros((remaining_datapoints,5))\n",
        "            for folder in range(remaining_datapoints):\n",
        "                imgs = os.listdir(source_path+'/'+ t[folder + (num_batches*batch_size)].split(';')[0])\n",
        "                for idx,item in enumerate(img_idx):\n",
        "                    image = imageio.imread(source_path+'/'+ t[folder + (num_batches*batch_size)].strip().split(';')[0]+'/'+imgs[item]).astype(np.float32)\n",
        "                    \n",
        "                    new_width = 120\n",
        "                    new_height = 160\n",
        "\n",
        "                    resized_img = resize(image, (new_height, new_width))\n",
        "                    \n",
        "                    channel = resized_img[:, :, 0]\n",
        "                    channel_normalized = (channel - channel.min()) / (channel.max())\n",
        "                    batch_data[folder,idx,:,:,0] = channel_normalized\n",
        "\n",
        "                    channel = resized_img[:, :, 1]\n",
        "                    channel_normalized = (channel - channel.min()) / (channel.max() - channel.min())\n",
        "                    batch_data[folder,idx,:,:,1] = channel_normalized\n",
        "\n",
        "                    channel = resized_img[:, :, 2]\n",
        "                    channel_normalized = (channel - channel.min()) / (channel.max() - channel.min())\n",
        "                    batch_data[folder,idx,:,:,2] = channel_normalized\n"
      ]
    },
    {
      "cell_type": "markdown",
      "metadata": {
        "id": "pBiudCq09yW-"
      },
      "source": [
        "Note here that a video is represented above in the generator as (number of images, height, width, number of channels). Take this into consideration while creating the model architecture."
      ]
    },
    {
      "cell_type": "code",
      "execution_count": 79,
      "metadata": {
        "id": "6vTvxwfP9yW_",
        "colab": {
          "base_uri": "https://localhost:8080/"
        },
        "outputId": "6ce2286f-5780-4202-c9ca-f2dc6a6efa2c"
      },
      "outputs": [
        {
          "output_type": "stream",
          "name": "stdout",
          "text": [
            "# training sequences = 663\n",
            "# validation sequences = 100\n",
            "# epochs = 3\n"
          ]
        }
      ],
      "source": [
        "curr_dt_time = datetime.datetime.now()\n",
        "train_path = '/content/drive/MyDrive/Upgrad/Gesture Recognition/Unzipped data/Project_data/train'\n",
        "val_path = '/content/drive/MyDrive/Upgrad/Gesture Recognition/Unzipped data/Project_data/val'\n",
        "num_train_sequences = len(train_doc)\n",
        "print('# training sequences =', num_train_sequences)\n",
        "num_val_sequences = len(val_doc)\n",
        "print('# validation sequences =', num_val_sequences)\n",
        "num_epochs = 3 # choose the number of epochs\n",
        "print ('# epochs =', num_epochs)"
      ]
    },
    {
      "cell_type": "markdown",
      "metadata": {
        "id": "9VAscp0g9yXB"
      },
      "source": [
        "## Model\n",
        "Here you make the model using different functionalities that Keras provides. Remember to use `Conv3D` and `MaxPooling3D` and not `Conv2D` and `Maxpooling2D` for a 3D convolution model. You would want to use `TimeDistributed` while building a Conv2D + RNN model. Also remember that the last layer is the softmax. Design the network in such a way that the model is able to give good accuracy on the least number of parameters so that it can fit in the memory of the webcam."
      ]
    },
    {
      "cell_type": "code",
      "execution_count": 80,
      "metadata": {
        "id": "MPq0pheZ9yXC"
      },
      "outputs": [],
      "source": [
        "from keras.models import Sequential, Model\n",
        "from keras.layers import Dense, GRU, Flatten, TimeDistributed, Flatten, BatchNormalization, Activation, Dropout\n",
        "from keras.layers.convolutional import Conv3D, MaxPooling3D\n",
        "from keras.callbacks import ModelCheckpoint, ReduceLROnPlateau\n",
        "from keras import optimizers\n",
        "\n",
        "#write your model here\n",
        "model = Sequential()\n",
        "\n",
        "model.add(Conv3D(filters=64, kernel_size=(3, 3, 3), activation='relu', input_shape=(20,160,120,3)))\n",
        "model.add(MaxPooling3D(pool_size=(2, 2, 2)))\n",
        "model.add(Dropout(0.25))\n",
        "\n",
        "model.add(Conv3D(filters=32, kernel_size=(3, 3, 3), activation='relu'))\n",
        "model.add(MaxPooling3D(pool_size=(2, 2, 2)))\n",
        "model.add(Dropout(0.25))\n",
        "\n",
        "model.add(Flatten())\n",
        "\n",
        "model.add(Dense(units=128, activation='relu'))\n",
        "model.add(Dropout(0.5))\n",
        "\n",
        "model.add(Dense(units=5, activation='softmax'))"
      ]
    },
    {
      "cell_type": "markdown",
      "metadata": {
        "id": "9jqcuXgP9yXD"
      },
      "source": [
        "Now that you have written the model, the next step is to `compile` the model. When you print the `summary` of the model, you'll see the total number of parameters you have to train."
      ]
    },
    {
      "cell_type": "code",
      "execution_count": 81,
      "metadata": {
        "scrolled": true,
        "id": "PInnBktt9yXE",
        "colab": {
          "base_uri": "https://localhost:8080/"
        },
        "outputId": "10a15a4e-cb82-438d-a248-d8ec82b654f9"
      },
      "outputs": [
        {
          "output_type": "stream",
          "name": "stdout",
          "text": [
            "Model: \"sequential_6\"\n",
            "_________________________________________________________________\n",
            " Layer (type)                Output Shape              Param #   \n",
            "=================================================================\n",
            " conv3d_12 (Conv3D)          (None, 18, 158, 118, 64)  5248      \n",
            "                                                                 \n",
            " max_pooling3d_12 (MaxPoolin  (None, 9, 79, 59, 64)    0         \n",
            " g3D)                                                            \n",
            "                                                                 \n",
            " dropout_18 (Dropout)        (None, 9, 79, 59, 64)     0         \n",
            "                                                                 \n",
            " conv3d_13 (Conv3D)          (None, 7, 77, 57, 32)     55328     \n",
            "                                                                 \n",
            " max_pooling3d_13 (MaxPoolin  (None, 3, 38, 28, 32)    0         \n",
            " g3D)                                                            \n",
            "                                                                 \n",
            " dropout_19 (Dropout)        (None, 3, 38, 28, 32)     0         \n",
            "                                                                 \n",
            " flatten_6 (Flatten)         (None, 102144)            0         \n",
            "                                                                 \n",
            " dense_12 (Dense)            (None, 128)               13074560  \n",
            "                                                                 \n",
            " dropout_20 (Dropout)        (None, 128)               0         \n",
            "                                                                 \n",
            " dense_13 (Dense)            (None, 5)                 645       \n",
            "                                                                 \n",
            "=================================================================\n",
            "Total params: 13,135,781\n",
            "Trainable params: 13,135,781\n",
            "Non-trainable params: 0\n",
            "_________________________________________________________________\n",
            "None\n"
          ]
        }
      ],
      "source": [
        "optimiser = 'adam'\n",
        "model.compile(optimizer=optimiser, loss='categorical_crossentropy', metrics=['categorical_accuracy'])\n",
        "print (model.summary())"
      ]
    },
    {
      "cell_type": "markdown",
      "metadata": {
        "id": "FE2s55yU9yXE"
      },
      "source": [
        "Let us create the `train_generator` and the `val_generator` which will be used in `.fit_generator`."
      ]
    },
    {
      "cell_type": "code",
      "execution_count": 82,
      "metadata": {
        "id": "ZvJfNGDW9yXF"
      },
      "outputs": [],
      "source": [
        "train_generator = generator(train_path, train_doc, batch_size)\n",
        "val_generator = generator(val_path, val_doc, batch_size)"
      ]
    },
    {
      "cell_type": "code",
      "execution_count": 98,
      "metadata": {
        "id": "UKDpzBb29yXF"
      },
      "outputs": [],
      "source": [
        "model_name = 'model_init' + '_' + str(curr_dt_time).replace(' ','').replace(':','_') + '/'\n",
        "    \n",
        "if not os.path.exists(model_name):\n",
        "    os.mkdir(model_name)\n",
        "        \n",
        "# filepath = model_name + 'model-{epoch:05d}-{loss:.5f}-{categorical_accuracy:.5f}-{val_loss: f}-{val_categorical_accuracy:.5f}.h5'\n",
        "\n",
        "# filepath= 'model_init_2023_05_13-{epoch:05d}-{loss:.5f}-{categorical_accuracy:.5f}-{val_loss: f}-{val_categorical_accuracy:.5f}.h5'\n",
        "\n",
        "# filepath= 'model_init_2023_05_13-{epoch:05d}-{loss:.5f}-{categorical_accuracy:.5f}-{val_categorical_accuracy:.5f}.h5'\n",
        "filepath = 'model_init_2023_05_13-{epoch:05d}-{loss:.5f}-{categorical_accuracy:.5f}-{val_loss:.5f}.h5'\n",
        "\n",
        "checkpoint = ModelCheckpoint(filepath, monitor='val_loss', verbose=1, save_best_only=False, save_weights_only=False, mode='auto',save_freq=1)\n",
        "\n",
        "LR = ReduceLROnPlateau(monitor='val_loss', factor=0.2, patience=5, min_lr=0.001, verbose=1)\n",
        "callbacks_list = [checkpoint, LR]"
      ]
    },
    {
      "cell_type": "markdown",
      "metadata": {
        "id": "T9cIDeQx9yXG"
      },
      "source": [
        "The `steps_per_epoch` and `validation_steps` are used by `fit_generator` to decide the number of next() calls it need to make."
      ]
    },
    {
      "cell_type": "code",
      "execution_count": 99,
      "metadata": {
        "id": "oTh2rTr39yXG"
      },
      "outputs": [],
      "source": [
        "if (num_train_sequences%batch_size) == 0:\n",
        "    steps_per_epoch = int(num_train_sequences/batch_size)\n",
        "# else:\n",
        "#     steps_per_epoch = (num_train_sequences//batch_size) + 1\n",
        "\n",
        "if (num_val_sequences%batch_size) == 0:\n",
        "    validation_steps = int(num_val_sequences/batch_size)\n",
        "# else:\n",
        "#     validation_steps = (num_val_sequences//batch_size) + 1"
      ]
    },
    {
      "cell_type": "markdown",
      "metadata": {
        "id": "uGRbEho69yXH"
      },
      "source": [
        "Let us now fit the model. This will start training the model and with the help of the checkpoints, you'll be able to save the model at the end of each epoch."
      ]
    },
    {
      "cell_type": "code",
      "execution_count": 100,
      "metadata": {
        "id": "Pbd-lJsR9yXH",
        "colab": {
          "base_uri": "https://localhost:8080/",
          "height": 426
        },
        "outputId": "495d0c16-5727-4848-ba7e-48756adf7691"
      },
      "outputs": [
        {
          "output_type": "stream",
          "name": "stdout",
          "text": [
            "Epoch 1/3\n"
          ]
        },
        {
          "output_type": "error",
          "ename": "KeyError",
          "evalue": "ignored",
          "traceback": [
            "\u001b[0;31m---------------------------------------------------------------------------\u001b[0m",
            "\u001b[0;31mKeyError\u001b[0m                                  Traceback (most recent call last)",
            "\u001b[0;32m<timed eval>\u001b[0m in \u001b[0;36m<module>\u001b[0;34m\u001b[0m\n",
            "\u001b[0;32m/usr/local/lib/python3.10/dist-packages/keras/utils/traceback_utils.py\u001b[0m in \u001b[0;36merror_handler\u001b[0;34m(*args, **kwargs)\u001b[0m\n\u001b[1;32m     68\u001b[0m             \u001b[0;31m# To get the full stack trace, call:\u001b[0m\u001b[0;34m\u001b[0m\u001b[0;34m\u001b[0m\u001b[0m\n\u001b[1;32m     69\u001b[0m             \u001b[0;31m# `tf.debugging.disable_traceback_filtering()`\u001b[0m\u001b[0;34m\u001b[0m\u001b[0;34m\u001b[0m\u001b[0m\n\u001b[0;32m---> 70\u001b[0;31m             \u001b[0;32mraise\u001b[0m \u001b[0me\u001b[0m\u001b[0;34m.\u001b[0m\u001b[0mwith_traceback\u001b[0m\u001b[0;34m(\u001b[0m\u001b[0mfiltered_tb\u001b[0m\u001b[0;34m)\u001b[0m \u001b[0;32mfrom\u001b[0m \u001b[0;32mNone\u001b[0m\u001b[0;34m\u001b[0m\u001b[0;34m\u001b[0m\u001b[0m\n\u001b[0m\u001b[1;32m     71\u001b[0m         \u001b[0;32mfinally\u001b[0m\u001b[0;34m:\u001b[0m\u001b[0;34m\u001b[0m\u001b[0;34m\u001b[0m\u001b[0m\n\u001b[1;32m     72\u001b[0m             \u001b[0;32mdel\u001b[0m \u001b[0mfiltered_tb\u001b[0m\u001b[0;34m\u001b[0m\u001b[0;34m\u001b[0m\u001b[0m\n",
            "\u001b[0;32m/usr/local/lib/python3.10/dist-packages/keras/callbacks.py\u001b[0m in \u001b[0;36m_get_file_path\u001b[0;34m(self, epoch, batch, logs)\u001b[0m\n\u001b[1;32m   1603\u001b[0m                 )\n\u001b[1;32m   1604\u001b[0m         \u001b[0;32mexcept\u001b[0m \u001b[0mKeyError\u001b[0m \u001b[0;32mas\u001b[0m \u001b[0me\u001b[0m\u001b[0;34m:\u001b[0m\u001b[0;34m\u001b[0m\u001b[0;34m\u001b[0m\u001b[0m\n\u001b[0;32m-> 1605\u001b[0;31m             raise KeyError(\n\u001b[0m\u001b[1;32m   1606\u001b[0m                 \u001b[0;34mf'Failed to format this callback filepath: \"{self.filepath}\". '\u001b[0m\u001b[0;34m\u001b[0m\u001b[0;34m\u001b[0m\u001b[0m\n\u001b[1;32m   1607\u001b[0m                 \u001b[0;34mf\"Reason: {e}\"\u001b[0m\u001b[0;34m\u001b[0m\u001b[0;34m\u001b[0m\u001b[0m\n",
            "\u001b[0;31mKeyError\u001b[0m: 'Failed to format this callback filepath: \"model_init_2023_05_13-{epoch:05d}-{loss:.5f}-{categorical_accuracy:.5f}-{val_loss:.5f}.h5\". Reason: \\'val_loss\\''"
          ]
        }
      ],
      "source": [
        "%%time\n",
        "model.fit(train_generator, steps_per_epoch=steps_per_epoch, epochs=num_epochs, verbose=1, \n",
        "                    callbacks=callbacks_list, validation_data= val_generator, \n",
        "                    validation_steps=validation_steps, class_weight=None, workers=1, initial_epoch=0)"
      ]
    },
    {
      "cell_type": "code",
      "execution_count": 100,
      "metadata": {
        "id": "lWSQjJ8y9yXI"
      },
      "outputs": [],
      "source": []
    }
  ],
  "metadata": {
    "kernelspec": {
      "display_name": "Python 3",
      "language": "python",
      "name": "python3"
    },
    "language_info": {
      "codemirror_mode": {
        "name": "ipython",
        "version": 3
      },
      "file_extension": ".py",
      "mimetype": "text/x-python",
      "name": "python",
      "nbconvert_exporter": "python",
      "pygments_lexer": "ipython3",
      "version": "3.6.5"
    },
    "colab": {
      "provenance": [],
      "gpuType": "T4",
      "include_colab_link": true
    },
    "accelerator": "GPU",
    "gpuClass": "standard"
  },
  "nbformat": 4,
  "nbformat_minor": 0
}